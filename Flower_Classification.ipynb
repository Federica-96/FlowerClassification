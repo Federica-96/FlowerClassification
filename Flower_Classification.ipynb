{
  "nbformat": 4,
  "nbformat_minor": 0,
  "metadata": {
    "colab": {
      "name": "RussoFedericaHomework.ipynb",
      "provenance": [],
      "collapsed_sections": [],
      "toc_visible": true
    },
    "kernelspec": {
      "name": "python3",
      "display_name": "Python 3"
    },
    "language_info": {
      "name": "python"
    },
    "accelerator": "GPU"
  },
  "cells": [
    {
      "cell_type": "markdown",
      "metadata": {
        "id": "kreOE7JxQcg5"
      },
      "source": [
        "# Flower Classification"
      ]
    },
    {
      "cell_type": "markdown",
      "metadata": {
        "id": "5vtZ6x2TVNey"
      },
      "source": [
        "This dataset contains 4323 images of flowers.\n",
        "The data collection is based on the data Flickr, Google Images, Yandex Images.\n",
        "The pictures are divided into five classes: chamomile, tulip, rose, sunflower, dandelion.\n",
        "For each class there are about 800 photos. Photos are not high resolution, about 320x240 pixels. Photos are not reduced to a single size, they have different proportions.\\\n",
        "The **aim of the work** is to provide a model which is able to classify the given image to its class."
      ]
    },
    {
      "cell_type": "markdown",
      "metadata": {
        "id": "LQEn821WQkWN"
      },
      "source": [
        "## Import our data"
      ]
    },
    {
      "cell_type": "code",
      "metadata": {
        "id": "tlw5yrt3K5ng"
      },
      "source": [
        "!pip install PyDrive &> /dev/null"
      ],
      "execution_count": null,
      "outputs": []
    },
    {
      "cell_type": "code",
      "metadata": {
        "id": "SZKvvK-dLAi6"
      },
      "source": [
        "from pydrive.auth import GoogleAuth\n",
        "from pydrive.drive import GoogleDrive\n",
        "from google.colab import auth\n",
        "from oauth2client.client import GoogleCredentials"
      ],
      "execution_count": null,
      "outputs": []
    },
    {
      "cell_type": "code",
      "metadata": {
        "id": "rH5RzMS4LEaX"
      },
      "source": [
        "auth.authenticate_user()\n",
        "gauth = GoogleAuth()\n",
        "gauth.credentials = GoogleCredentials.get_application_default()\n",
        "drive = GoogleDrive(gauth)"
      ],
      "execution_count": null,
      "outputs": []
    },
    {
      "cell_type": "code",
      "metadata": {
        "id": "mLOpU7QsLMUd"
      },
      "source": [
        "downloaded = drive.CreateFile({'id':\"1cDrRvTrvw_qXGD68I3b3TGTDwSXEcRP1\"})  \n",
        "downloaded.GetContentFile('flowers-recognition.zip') "
      ],
      "execution_count": null,
      "outputs": []
    },
    {
      "cell_type": "code",
      "metadata": {
        "id": "OrRIzxGlNzfW"
      },
      "source": [
        "!unzip flowers-recognition.zip -d Flowers &> /dev/null"
      ],
      "execution_count": null,
      "outputs": []
    },
    {
      "cell_type": "markdown",
      "metadata": {
        "id": "5_1yzdCZQrpQ"
      },
      "source": [
        "## Process the data"
      ]
    },
    {
      "cell_type": "code",
      "metadata": {
        "id": "BEyGlTNyUpl_"
      },
      "source": [
        "# Imports\n",
        "import torch\n",
        "import torchvision\n",
        "from matplotlib import pyplot as plt\n",
        "\n",
        "from torchvision.datasets import ImageFolder\n",
        "import torchvision.transforms as T\n",
        "from torch.utils.data import DataLoader\n",
        "from sklearn.model_selection import train_test_split\n",
        "import os\n",
        "from random import shuffle\n",
        "import numpy as np\n",
        "from PIL import Image\n",
        "%matplotlib inline"
      ],
      "execution_count": null,
      "outputs": []
    },
    {
      "cell_type": "code",
      "metadata": {
        "id": "IiT_2nmBf-ZO"
      },
      "source": [
        "data_dir =\"/content/Flowers\"\n",
        "from torchvision import transforms"
      ],
      "execution_count": null,
      "outputs": []
    },
    {
      "cell_type": "code",
      "metadata": {
        "id": "y3u27i8gf0e8"
      },
      "source": [
        "transformer = torchvision.transforms.Compose(\n",
        "    [   torchvision.transforms.Resize((64, 64)),\n",
        "        torchvision.transforms.RandomHorizontalFlip(),\n",
        "        torchvision.transforms.RandomVerticalFlip(),\n",
        "        torchvision.transforms.RandomRotation(50),             \n",
        "        torchvision.transforms.ToTensor(),\n",
        "        torchvision.transforms.Normalize(\n",
        "            mean=[0.4914, 0.4822, 0.4465], std=[0.2023, 0.1994, 0.2010]\n",
        "        ),\n",
        "     \n",
        "     \n",
        "    ]\n",
        ")\n",
        "database = ImageFolder(data_dir, transform=transformer)"
      ],
      "execution_count": null,
      "outputs": []
    },
    {
      "cell_type": "markdown",
      "metadata": {
        "id": "JDbkNBvsgqum"
      },
      "source": [
        "The 5 classes to which the images belong are: 'Daisy', 'Dandelion', 'Rose, 'Sunflworer' and 'Tulip'."
      ]
    },
    {
      "cell_type": "code",
      "metadata": {
        "colab": {
          "base_uri": "https://localhost:8080/"
        },
        "id": "m83CZ7etgMUA",
        "outputId": "a4eff58a-a931-44db-c6d9-d119496c3496"
      },
      "source": [
        "database.classes"
      ],
      "execution_count": null,
      "outputs": [
        {
          "output_type": "execute_result",
          "data": {
            "text/plain": [
              "['daisy', 'dandelion', 'rose', 'sunflower', 'tulip']"
            ]
          },
          "metadata": {
            "tags": []
          },
          "execution_count": 9
        }
      ]
    },
    {
      "cell_type": "markdown",
      "metadata": {
        "id": "5wAJbQpHh-gO"
      },
      "source": [
        "To each of the label, I assigned a number to performe the classification."
      ]
    },
    {
      "cell_type": "code",
      "metadata": {
        "id": "P97I39P2hxje"
      },
      "source": [
        "flower_label = {\n",
        "    0: 'daisy',\n",
        "    1: 'dandelion',\n",
        "    2: 'rose',\n",
        "    3: 'sunflower',\n",
        "    4: 'tulip'\n",
        "}"
      ],
      "execution_count": null,
      "outputs": []
    },
    {
      "cell_type": "code",
      "metadata": {
        "id": "9r-IVS5PpY71"
      },
      "source": [
        "def show_sample(image, label,invert=True):\n",
        "    print(\"Label :\" +database.classes[label] + \"(\" + str(label) + \")\")\n",
        "    plt.imshow(image.permute(1, 2, 0))"
      ],
      "execution_count": null,
      "outputs": []
    },
    {
      "cell_type": "code",
      "metadata": {
        "colab": {
          "base_uri": "https://localhost:8080/"
        },
        "id": "G-grL8CfiR54",
        "outputId": "a0fe4166-df56-4f7d-e52d-9d00928ecd23"
      },
      "source": [
        "show_sample(*database[1])"
      ],
      "execution_count": null,
      "outputs": [
        {
          "output_type": "stream",
          "text": [
            "Clipping input data to the valid range for imshow with RGB data ([0..1] for floats or [0..255] for integers).\n"
          ],
          "name": "stderr"
        },
        {
          "output_type": "stream",
          "text": [
            "Label :daisy(0)\n"
          ],
          "name": "stdout"
        },
        {
          "output_type": "display_data",
          "data": {
            "image/png": "[encoded data removed]",
            "text/plain": [
              "<Figure size 432x288 with 1 Axes>"
            ]
          },
          "metadata": {
            "tags": [],
            "needs_background": "light"
          }
        }
      ]
    },
    {
      "cell_type": "code",
      "metadata": {
        "colab": {
          "base_uri": "https://localhost:8080/"
        },
        "id": "jLmicLTUN6fU",
        "outputId": "4b92269b-9780-4fb6-f5ed-473374b41cf2"
      },
      "source": [
        "len(database)"
      ],
      "execution_count": null,
      "outputs": [
        {
          "output_type": "execute_result",
          "data": {
            "text/plain": [
              "4323"
            ]
          },
          "metadata": {
            "tags": []
          },
          "execution_count": 13
        }
      ]
    },
    {
      "cell_type": "code",
      "metadata": {
        "id": "rB4igabrul2h"
      },
      "source": [
        "from torch.utils.data import random_split"
      ],
      "execution_count": null,
      "outputs": []
    },
    {
      "cell_type": "code",
      "metadata": {
        "colab": {
          "base_uri": "https://localhost:8080/"
        },
        "id": "aXO5WH-KQ1B8",
        "outputId": "dc612416-957d-4a70-e89a-d281ba7c6571"
      },
      "source": [
        "val_size = 900\n",
        "test_size = 900\n",
        "train_size = len(database) - val_size - test_size\n",
        "\n",
        "train_ds, val_ds, test_ds = random_split(database, [train_size, val_size, test_size], generator=torch.Generator().manual_seed(11))\n",
        "len(train_ds), len(val_ds), len(test_ds)"
      ],
      "execution_count": null,
      "outputs": [
        {
          "output_type": "execute_result",
          "data": {
            "text/plain": [
              "(2523, 900, 900)"
            ]
          },
          "metadata": {
            "tags": []
          },
          "execution_count": 15
        }
      ]
    },
    {
      "cell_type": "markdown",
      "metadata": {
        "id": "YM3r8csou5Yh"
      },
      "source": [
        "With the function random_split, I split the data randomly. The length of train_ds is 2523, while val_ds and test_ds is 900."
      ]
    },
    {
      "cell_type": "code",
      "metadata": {
        "id": "V7l4nf0ghlz9"
      },
      "source": [
        "batch_size=32"
      ],
      "execution_count": null,
      "outputs": []
    },
    {
      "cell_type": "code",
      "metadata": {
        "id": "fRdsL3hROez2"
      },
      "source": [
        "# Define loaders\n",
        "from torch.utils.data import DataLoader\n",
        "train_loader = DataLoader(train_ds, batch_size, num_workers=2, shuffle=True)\n",
        "val_loader   = DataLoader(val_ds,   batch_size, num_workers=2, shuffle=False)\n",
        "test_loader  = DataLoader(test_ds,  batch_size, num_workers=2, shuffle=False)"
      ],
      "execution_count": null,
      "outputs": []
    },
    {
      "cell_type": "code",
      "metadata": {
        "id": "yDz8YJKY2FYK"
      },
      "source": [
        "from torchvision.utils import make_grid"
      ],
      "execution_count": null,
      "outputs": []
    },
    {
      "cell_type": "code",
      "metadata": {
        "id": "ZBvlazEciP3B"
      },
      "source": [
        "def show_batch(dl,invert=True):\n",
        "    for images, labels in dl:\n",
        "        fig, ax = plt.subplots(figsize=(12, 6))\n",
        "        ax.set_xticks([]); ax.set_yticks([])\n",
        "        ax.imshow(make_grid(images, nrow=16).permute(1, 2, 0))\n",
        "        break\n"
      ],
      "execution_count": null,
      "outputs": []
    },
    {
      "cell_type": "code",
      "metadata": {
        "colab": {
          "base_uri": "https://localhost:8080/"
        },
        "id": "Bogiu9hK18ZM",
        "outputId": "61b326d9-468d-4009-f1ee-cde10939bf2f"
      },
      "source": [
        "show_batch(train_loader,invert=True)"
      ],
      "execution_count": null,
      "outputs": [
        {
          "output_type": "stream",
          "text": [
            "Clipping input data to the valid range for imshow with RGB data ([0..1] for floats or [0..255] for integers).\n"
          ],
          "name": "stderr"
        },
        {
          "output_type": "display_data",
          "data": {
            "image/png": "[encoded data removed]",
            "text/plain": [
              "<Figure size 864x432 with 1 Axes>"
            ]
          },
          "metadata": {
            "tags": []
          }
        }
      ]
    },
    {
      "cell_type": "markdown",
      "metadata": {
        "id": "6o2zAzcB2YRx"
      },
      "source": [
        "## Creating a CNN Model"
      ]
    },
    {
      "cell_type": "code",
      "metadata": {
        "id": "-f5j1mQUSfZN"
      },
      "source": [
        "def get_default_device():\n",
        "    \"\"\"Pick GPU if available, else CPU\"\"\"\n",
        "    if torch.cuda.is_available():\n",
        "        return torch.device('cuda')\n",
        "    else:\n",
        "        return torch.device('cpu')\n",
        "\n",
        "device = get_default_device()        "
      ],
      "execution_count": null,
      "outputs": []
    },
    {
      "cell_type": "code",
      "metadata": {
        "colab": {
          "base_uri": "https://localhost:8080/"
        },
        "id": "hXaknWCmSu8D",
        "outputId": "29d6d6b6-9bf4-4b90-c771-db28f26f9921"
      },
      "source": [
        "device = get_default_device()\n",
        "device"
      ],
      "execution_count": null,
      "outputs": [
        {
          "output_type": "execute_result",
          "data": {
            "text/plain": [
              "device(type='cuda')"
            ]
          },
          "metadata": {
            "tags": []
          },
          "execution_count": 22
        }
      ]
    },
    {
      "cell_type": "markdown",
      "metadata": {
        "id": "R4zLmMedM3F6"
      },
      "source": [
        "### Model - 2 Convolutional and 3 Dense layers"
      ]
    },
    {
      "cell_type": "code",
      "metadata": {
        "id": "pCA-vCsakIzq"
      },
      "source": [
        "import torch.nn as nn\n",
        "\n",
        "class SimpleCNN(nn.Module):\n",
        "\n",
        "  #Constructor\n",
        "  def __init__(self):\n",
        "    # Call parent contructor\n",
        "    super().__init__()\n",
        "    self.conv_layer = nn.Sequential(\n",
        "         # Layer 1\n",
        "        nn.Conv2d(in_channels=3, out_channels=64, kernel_size=5, padding=1, stride=1),\n",
        "        nn.ReLU(),\n",
        "        # Layer 2\n",
        "        nn.Conv2d(in_channels=64, out_channels=128, kernel_size=3, padding=1, stride=1),\n",
        "        nn.ReLU(),\n",
        "        nn.MaxPool2d(kernel_size=2, stride=2)\n",
        "    )\n",
        "\n",
        "\n",
        "  # Forward\n",
        "  def forward(self, x):\n",
        "    x = self.conv_layer(x)\n",
        "    return x"
      ],
      "execution_count": null,
      "outputs": []
    },
    {
      "cell_type": "code",
      "metadata": {
        "colab": {
          "base_uri": "https://localhost:8080/"
        },
        "id": "LYmuvKLgkRSk",
        "outputId": "07db38b2-cdf8-415a-c503-af678f444438"
      },
      "source": [
        "# Create the model\n",
        "model = SimpleCNN()\n",
        "print(model)"
      ],
      "execution_count": null,
      "outputs": [
        {
          "output_type": "stream",
          "text": [
            "SimpleCNN(\n",
            "  (conv_layer): Sequential(\n",
            "    (0): Conv2d(3, 64, kernel_size=(5, 5), stride=(1, 1), padding=(1, 1))\n",
            "    (1): ReLU()\n",
            "    (2): Conv2d(64, 128, kernel_size=(3, 3), stride=(1, 1), padding=(1, 1))\n",
            "    (3): ReLU()\n",
            "    (4): MaxPool2d(kernel_size=2, stride=2, padding=0, dilation=1, ceil_mode=False)\n",
            "  )\n",
            ")\n"
          ],
          "name": "stdout"
        }
      ]
    },
    {
      "cell_type": "code",
      "metadata": {
        "colab": {
          "base_uri": "https://localhost:8080/"
        },
        "id": "-nWN7eKFkQ7K",
        "outputId": "5c036699-6941-4b0d-d840-457dfd96c9cf"
      },
      "source": [
        "# Get an element from the dataset\n",
        "test_x, _ = train_ds[0]\n",
        "# Get the size of a sample\n",
        "test_x.size()"
      ],
      "execution_count": null,
      "outputs": [
        {
          "output_type": "execute_result",
          "data": {
            "text/plain": [
              "torch.Size([3, 64, 64])"
            ]
          },
          "metadata": {
            "tags": []
          },
          "execution_count": 25
        }
      ]
    },
    {
      "cell_type": "code",
      "metadata": {
        "colab": {
          "base_uri": "https://localhost:8080/"
        },
        "id": "wzHRd56Ukflf",
        "outputId": "bfdc87c5-2be1-4da2-ae5a-d8c0396f3b3d"
      },
      "source": [
        "test_x = test_x.unsqueeze(dim=0)\n",
        "test_x.size()"
      ],
      "execution_count": null,
      "outputs": [
        {
          "output_type": "execute_result",
          "data": {
            "text/plain": [
              "torch.Size([1, 3, 64, 64])"
            ]
          },
          "metadata": {
            "tags": []
          },
          "execution_count": 26
        }
      ]
    },
    {
      "cell_type": "code",
      "metadata": {
        "colab": {
          "base_uri": "https://localhost:8080/"
        },
        "id": "fljzpjRrknis",
        "outputId": "336729dc-43cf-4ef1-8ced-8e2d53a4ffe8"
      },
      "source": [
        "output = model(test_x)\n",
        "output.shape"
      ],
      "execution_count": null,
      "outputs": [
        {
          "output_type": "execute_result",
          "data": {
            "text/plain": [
              "torch.Size([1, 128, 31, 31])"
            ]
          },
          "metadata": {
            "tags": []
          },
          "execution_count": 27
        }
      ]
    },
    {
      "cell_type": "code",
      "metadata": {
        "colab": {
          "base_uri": "https://localhost:8080/"
        },
        "id": "GZ7Zq5S3kp_c",
        "outputId": "4671bc2e-1b43-41ae-d063-075554f5cbdd"
      },
      "source": [
        "out_features = output.size(1) * output.size(2) * output.size(3)\n",
        "print(out_features)"
      ],
      "execution_count": null,
      "outputs": [
        {
          "output_type": "stream",
          "text": [
            "123008\n"
          ],
          "name": "stdout"
        }
      ]
    },
    {
      "cell_type": "code",
      "metadata": {
        "id": "xRkTHqD4kzO9"
      },
      "source": [
        "class CNN(nn.Module):\n",
        "  #Constructor\n",
        "  def __init__(self):\n",
        "    # Call parent contructor\n",
        "    super().__init__()\n",
        "    self.conv_layer = nn.Sequential(\n",
        "         # Layer 1\n",
        "        nn.Conv2d(in_channels=3, out_channels=64, kernel_size=5, padding=1, stride=1),\n",
        "        nn.ReLU(),\n",
        "        # Layer 2\n",
        "        nn.Conv2d(in_channels=64, out_channels=128, kernel_size=3, padding=1, stride=1),\n",
        "        nn.ReLU(),\n",
        "        nn.MaxPool2d(kernel_size=2, stride=2)\n",
        "    )\n",
        "    # Create fully-connected layers\n",
        "    self.fc_layers = nn.Sequential(\n",
        "        #First FC layer\n",
        "        nn.Linear(123008, 1024),\n",
        "        nn.ReLU(),\n",
        "        # Second Layer\n",
        "        nn.Linear(1024, 512),\n",
        "        nn.ReLU(),\n",
        "        #Classification Layer\n",
        "        nn.Linear(512, 5)\n",
        "    )\n",
        "\n",
        "  # Forward\n",
        "  def forward(self, x):\n",
        "    x = self.conv_layer(x) \n",
        "    x = x.view(x.size(0), -1) \n",
        "    output = self.fc_layers(x) \n",
        "    return output"
      ],
      "execution_count": null,
      "outputs": []
    },
    {
      "cell_type": "code",
      "metadata": {
        "colab": {
          "base_uri": "https://localhost:8080/"
        },
        "id": "YvuQzQIok_GV",
        "outputId": "945ceeec-7442-4e73-bce9-dade2e721fb6"
      },
      "source": [
        "# Create the model\n",
        "model = CNN()\n",
        "output = model(test_x)\n",
        "output.shape"
      ],
      "execution_count": null,
      "outputs": [
        {
          "output_type": "execute_result",
          "data": {
            "text/plain": [
              "torch.Size([1, 5])"
            ]
          },
          "metadata": {
            "tags": []
          },
          "execution_count": 30
        }
      ]
    },
    {
      "cell_type": "code",
      "metadata": {
        "id": "fejdpCujlELp"
      },
      "source": [
        "# Define an optimizier\n",
        "import torch.optim as optim\n",
        "optimizer = optim.SGD(model.parameters(), lr = 0.01)\n",
        "# Define a loss \n",
        "criterion = nn.CrossEntropyLoss()"
      ],
      "execution_count": null,
      "outputs": []
    },
    {
      "cell_type": "markdown",
      "metadata": {
        "id": "MG2EoeOolGEm"
      },
      "source": [
        "#### Train"
      ]
    },
    {
      "cell_type": "code",
      "metadata": {
        "id": "3tRjI6aClTO_"
      },
      "source": [
        "def train(net, loaders, optimizer, criterion, epochs=10, dev=device):\n",
        "    try:\n",
        "        net = net.to(dev)\n",
        "        print(net)\n",
        "        # Initialize history\n",
        "        history_loss = {\"train\": [], \"val\": [], \"test\": []}\n",
        "        history_accuracy = {\"train\": [], \"val\": [], \"test\": []}\n",
        "        # Process each epoch\n",
        "        for epoch in range(epochs):\n",
        "            # Initialize epoch variables\n",
        "            sum_loss = {\"train\": 0, \"val\": 0, \"test\": 0}\n",
        "            sum_accuracy = {\"train\": 0, \"val\": 0, \"test\": 0}\n",
        "            # Process each split\n",
        "            for split in [\"train\", \"val\", \"test\"]:\n",
        "                if split == \"train\":\n",
        "                  net.train()\n",
        "                else:\n",
        "                  net.eval()\n",
        "                # Process each batch\n",
        "                for (input, labels) in loaders[split]:\n",
        "                    # Move to CUDA\n",
        "                    input = input.to(dev)\n",
        "                    labels = labels.to(dev)\n",
        "                    # Reset gradients\n",
        "                    optimizer.zero_grad()\n",
        "                    # Compute output\n",
        "                    pred = net(input)\n",
        "                    loss = criterion(pred, labels)\n",
        "                    # Update loss\n",
        "                    sum_loss[split] += loss.item()\n",
        "                    # Check parameter update\n",
        "                    if split == \"train\":\n",
        "                        # Compute gradients\n",
        "                        loss.backward()\n",
        "                        # Optimize\n",
        "                        optimizer.step()\n",
        "                    # Compute accuracy\n",
        "                    _,pred_labels = pred.max(1)\n",
        "                    batch_accuracy = (pred_labels == labels).sum().item()/input.size(0)\n",
        "                    # Update accuracy\n",
        "                    sum_accuracy[split] += batch_accuracy\n",
        "            # Compute epoch loss/accuracy\n",
        "            epoch_loss = {split: sum_loss[split]/len(loaders[split]) for split in [\"train\", \"val\", \"test\"]}\n",
        "            epoch_accuracy = {split: sum_accuracy[split]/len(loaders[split]) for split in [\"train\", \"val\", \"test\"]}\n",
        "            # Update history\n",
        "            for split in [\"train\", \"val\", \"test\"]:\n",
        "                history_loss[split].append(epoch_loss[split])\n",
        "                history_accuracy[split].append(epoch_accuracy[split])\n",
        "            # Print info\n",
        "            print(f\"Epoch {epoch+1}:\",\n",
        "                  f\"TrL={epoch_loss['train']:.4f},\",\n",
        "                  f\"TrA={epoch_accuracy['train']:.4f},\",\n",
        "                  f\"VL={epoch_loss['val']:.4f},\",\n",
        "                  f\"VA={epoch_accuracy['val']:.4f},\",\n",
        "                  f\"TeL={epoch_loss['test']:.4f},\",\n",
        "                  f\"TeA={epoch_accuracy['test']:.4f},\")\n",
        "    except KeyboardInterrupt:\n",
        "        print(\"Interrupted\")\n",
        "    finally:\n",
        "        # Plot loss\n",
        "        plt.title(\"Loss\")\n",
        "        for split in [\"train\", \"val\", \"test\"]:\n",
        "            plt.plot(history_loss[split], label=split)\n",
        "        plt.legend()\n",
        "        plt.show()\n",
        "        # Plot accuracy\n",
        "        plt.title(\"Accuracy\")\n",
        "        for split in [\"train\", \"val\", \"test\"]:\n",
        "            plt.plot(history_accuracy[split], label=split)\n",
        "        plt.legend()\n",
        "        plt.show()"
      ],
      "execution_count": null,
      "outputs": []
    },
    {
      "cell_type": "code",
      "metadata": {
        "id": "-ZhiVGiMlXSq"
      },
      "source": [
        "# Define dictionary of loaders\n",
        "loaders = {\"train\": train_loader,\n",
        "           \"val\": val_loader,\n",
        "           \"test\": test_loader}"
      ],
      "execution_count": null,
      "outputs": []
    },
    {
      "cell_type": "code",
      "metadata": {
        "colab": {
          "base_uri": "https://localhost:8080/",
          "height": 1000
        },
        "id": "vURxJMpGldhW",
        "outputId": "f480edc4-a3f8-4039-9c7d-91e45da40e64"
      },
      "source": [
        "# Train model\n",
        "train(model, loaders, optimizer, criterion, epochs=50, dev=device)"
      ],
      "execution_count": null,
      "outputs": [
        {
          "output_type": "stream",
          "text": [
            "CNN(\n",
            "  (conv_layer): Sequential(\n",
            "    (0): Conv2d(3, 64, kernel_size=(5, 5), stride=(1, 1), padding=(1, 1))\n",
            "    (1): ReLU()\n",
            "    (2): Conv2d(64, 128, kernel_size=(3, 3), stride=(1, 1), padding=(1, 1))\n",
            "    (3): ReLU()\n",
            "    (4): MaxPool2d(kernel_size=2, stride=2, padding=0, dilation=1, ceil_mode=False)\n",
            "  )\n",
            "  (fc_layers): Sequential(\n",
            "    (0): Linear(in_features=123008, out_features=1024, bias=True)\n",
            "    (1): ReLU()\n",
            "    (2): Linear(in_features=1024, out_features=512, bias=True)\n",
            "    (3): ReLU()\n",
            "    (4): Linear(in_features=512, out_features=5, bias=True)\n",
            "  )\n",
            ")\n",
            "Epoch 1: TrL=1.4767, TrA=0.3365, VL=1.3070, VA=0.4235, TeL=1.3073, TeA=0.4106,\n",
            "Epoch 2: TrL=1.2499, TrA=0.4357, VL=1.2163, VA=0.4892, TeL=1.1852, TeA=0.5119,\n",
            "Epoch 3: TrL=1.1909, TrA=0.4839, VL=1.2017, VA=0.4634, TeL=1.1600, TeA=0.4978,\n",
            "Epoch 4: TrL=1.1430, TrA=0.5188, VL=1.2068, VA=0.4547, TeL=1.1764, TeA=0.4978,\n",
            "Epoch 5: TrL=1.1219, TrA=0.5403, VL=1.1819, VA=0.4892, TeL=1.1459, TeA=0.5075,\n",
            "Epoch 6: TrL=1.0935, TrA=0.5419, VL=1.1115, VA=0.5485, TeL=1.0828, TeA=0.5453,\n",
            "Epoch 7: TrL=1.0751, TrA=0.5555, VL=1.1022, VA=0.5420, TeL=1.0657, TeA=0.5593,\n",
            "Epoch 8: TrL=1.0412, TrA=0.5701, VL=1.1377, VA=0.5237, TeL=1.0735, TeA=0.5485,\n",
            "Epoch 9: TrL=1.0316, TrA=0.5718, VL=1.0722, VA=0.5571, TeL=1.0133, TeA=0.5808,\n",
            "Epoch 10: TrL=1.0111, TrA=0.5834, VL=1.0695, VA=0.5711, TeL=1.0386, TeA=0.5711,\n",
            "Epoch 11: TrL=1.0039, TrA=0.5871, VL=1.0362, VA=0.5625, TeL=0.9934, TeA=0.6024,\n",
            "Epoch 12: TrL=0.9798, TrA=0.6047, VL=1.1264, VA=0.5506, TeL=1.0647, TeA=0.5550,\n",
            "Epoch 13: TrL=0.9701, TrA=0.5986, VL=1.0708, VA=0.5506, TeL=1.0053, TeA=0.6078,\n",
            "Epoch 14: TrL=0.9564, TrA=0.6197, VL=1.0110, VA=0.6002, TeL=0.9590, TeA=0.6207,\n",
            "Epoch 15: TrL=0.9406, TrA=0.6207, VL=1.0392, VA=0.5884, TeL=0.9790, TeA=0.5862,\n",
            "Epoch 16: TrL=0.9323, TrA=0.6220, VL=0.9997, VA=0.5830, TeL=0.9541, TeA=0.6013,\n",
            "Epoch 17: TrL=0.9223, TrA=0.6279, VL=0.9871, VA=0.6239, TeL=0.9369, TeA=0.6304,\n",
            "Epoch 18: TrL=0.9011, TrA=0.6400, VL=1.0808, VA=0.5862, TeL=1.0030, TeA=0.5938,\n",
            "Epoch 19: TrL=0.8986, TrA=0.6527, VL=0.9720, VA=0.6390, TeL=0.9166, TeA=0.6325,\n",
            "Epoch 20: TrL=0.8819, TrA=0.6490, VL=1.0155, VA=0.6110, TeL=0.9375, TeA=0.6142,\n",
            "Epoch 21: TrL=0.8784, TrA=0.6527, VL=1.0065, VA=0.5927, TeL=0.9534, TeA=0.6336,\n",
            "Epoch 22: TrL=0.8702, TrA=0.6495, VL=1.0466, VA=0.5787, TeL=0.9767, TeA=0.6110,\n",
            "Epoch 23: TrL=0.8499, TrA=0.6622, VL=0.9951, VA=0.6002, TeL=0.9029, TeA=0.6401,\n",
            "Epoch 24: TrL=0.8439, TrA=0.6679, VL=0.9575, VA=0.6369, TeL=0.8739, TeA=0.6433,\n",
            "Epoch 25: TrL=0.8356, TrA=0.6734, VL=0.9479, VA=0.6218, TeL=0.8788, TeA=0.6541,\n",
            "Epoch 26: TrL=0.8213, TrA=0.6766, VL=0.9905, VA=0.6034, TeL=0.9374, TeA=0.6185,\n",
            "Epoch 27: TrL=0.8122, TrA=0.6888, VL=0.9256, VA=0.6412, TeL=0.8707, TeA=0.6519,\n",
            "Epoch 28: TrL=0.8117, TrA=0.6797, VL=0.9729, VA=0.6315, TeL=0.8765, TeA=0.6509,\n",
            "Epoch 29: TrL=0.7973, TrA=0.6821, VL=0.9558, VA=0.6347, TeL=0.8791, TeA=0.6466,\n",
            "Epoch 30: TrL=0.7922, TrA=0.6873, VL=0.9336, VA=0.6379, TeL=0.8627, TeA=0.6595,\n",
            "Epoch 31: TrL=0.7794, TrA=0.6933, VL=1.0005, VA=0.6121, TeL=0.9033, TeA=0.6541,\n",
            "Epoch 32: TrL=0.7652, TrA=0.6996, VL=0.8973, VA=0.6401, TeL=0.8463, TeA=0.6778,\n",
            "Epoch 33: TrL=0.7539, TrA=0.7059, VL=0.9325, VA=0.6476, TeL=0.8645, TeA=0.6509,\n",
            "Epoch 34: TrL=0.7455, TrA=0.7001, VL=1.0237, VA=0.6207, TeL=0.9588, TeA=0.6250,\n",
            "Epoch 35: TrL=0.7504, TrA=0.7047, VL=0.9323, VA=0.6358, TeL=0.8594, TeA=0.6670,\n",
            "Epoch 36: TrL=0.7350, TrA=0.7152, VL=0.9603, VA=0.6390, TeL=0.8686, TeA=0.6336,\n",
            "Epoch 37: TrL=0.7318, TrA=0.7074, VL=0.9321, VA=0.6466, TeL=0.8506, TeA=0.6778,\n",
            "Epoch 38: TrL=0.7204, TrA=0.7123, VL=0.9212, VA=0.6422, TeL=0.8318, TeA=0.6832,\n",
            "Epoch 39: TrL=0.7206, TrA=0.7147, VL=0.9339, VA=0.6476, TeL=0.8440, TeA=0.6756,\n",
            "Epoch 40: TrL=0.7090, TrA=0.7198, VL=0.9283, VA=0.6325, TeL=0.8554, TeA=0.6606,\n",
            "Epoch 41: TrL=0.6996, TrA=0.7225, VL=0.9480, VA=0.6455, TeL=0.8731, TeA=0.6584,\n",
            "Epoch 42: TrL=0.6907, TrA=0.7329, VL=0.9677, VA=0.6261, TeL=0.8799, TeA=0.6616,\n",
            "Epoch 43: TrL=0.6706, TrA=0.7341, VL=0.9318, VA=0.6466, TeL=0.8486, TeA=0.6670,\n",
            "Epoch 44: TrL=0.6776, TrA=0.7437, VL=0.9576, VA=0.6519, TeL=0.8570, TeA=0.6800,\n",
            "Epoch 45: TrL=0.6647, TrA=0.7385, VL=0.9243, VA=0.6476, TeL=0.8210, TeA=0.6778,\n",
            "Epoch 46: TrL=0.6568, TrA=0.7472, VL=0.9519, VA=0.6530, TeL=0.9008, TeA=0.6476,\n",
            "Epoch 47: TrL=0.6363, TrA=0.7493, VL=0.9619, VA=0.6412, TeL=0.8331, TeA=0.6692,\n",
            "Epoch 48: TrL=0.6307, TrA=0.7508, VL=1.0652, VA=0.6207, TeL=0.9874, TeA=0.6325,\n",
            "Epoch 49: TrL=0.6172, TrA=0.7601, VL=0.9593, VA=0.6433, TeL=0.8495, TeA=0.6756,\n",
            "Epoch 50: TrL=0.6150, TrA=0.7557, VL=0.9993, VA=0.6498, TeL=0.9282, TeA=0.6347,\n"
          ],
          "name": "stdout"
        },
        {
          "output_type": "display_data",
          "data": {
            "image/png": "[encoded data removed]",
            "text/plain": [
              "<Figure size 432x288 with 1 Axes>"
            ]
          },
          "metadata": {
            "tags": [],
            "needs_background": "light"
          }
        },
        {
          "output_type": "display_data",
          "data": {
            "image/png": "[encoded data removed]",
            "text/plain": [
              "<Figure size 432x288 with 1 Axes>"
            ]
          },
          "metadata": {
            "tags": [],
            "needs_background": "light"
          }
        }
      ]
    },
    {
      "cell_type": "markdown",
      "metadata": {
        "id": "ce6VhoEflJtO"
      },
      "source": [
        "### Model - 3 Convolutional and 3 Dense layers"
      ]
    },
    {
      "cell_type": "code",
      "metadata": {
        "id": "IJzQ2BO9M_EC"
      },
      "source": [
        "import torch.nn as nn\n",
        "\n",
        "class SimpleCNN(nn.Module):\n",
        "\n",
        "  #Constructor\n",
        "  def __init__(self):\n",
        "    # Call parent contructor\n",
        "    super().__init__()\n",
        "    self.conv_layer = nn.Sequential(\n",
        "         # Layer 1\n",
        "        nn.Conv2d(in_channels=3, out_channels=64, kernel_size=5, padding=1, stride=1),\n",
        "        nn.ReLU(),\n",
        "        # Layer 2\n",
        "        nn.Conv2d(in_channels=64, out_channels=128, kernel_size=3, padding=1, stride=1),\n",
        "        nn.ReLU(),\n",
        "        nn.MaxPool2d(kernel_size=2, stride=2),\n",
        "        # Layer 3\n",
        "        nn.Conv2d(in_channels=128, out_channels=256, kernel_size=3, padding=1, stride=1),\n",
        "        nn.ReLU(),\n",
        "        nn.MaxPool2d(kernel_size=2, stride=2)\n",
        "    )\n",
        "\n",
        "\n",
        "  # Forward\n",
        "  def forward(self, x):\n",
        "    x = self.conv_layer(x)\n",
        "    return x"
      ],
      "execution_count": null,
      "outputs": []
    },
    {
      "cell_type": "code",
      "metadata": {
        "colab": {
          "base_uri": "https://localhost:8080/"
        },
        "id": "c0TzeyF6NI4x",
        "outputId": "c9a03d4c-01fd-4a5e-c3bf-9a4cd266a288"
      },
      "source": [
        "# Create the model\n",
        "model = SimpleCNN()\n",
        "print(model)"
      ],
      "execution_count": null,
      "outputs": [
        {
          "output_type": "stream",
          "text": [
            "SimpleCNN(\n",
            "  (conv_layer): Sequential(\n",
            "    (0): Conv2d(3, 64, kernel_size=(5, 5), stride=(1, 1), padding=(1, 1))\n",
            "    (1): ReLU()\n",
            "    (2): Conv2d(64, 128, kernel_size=(3, 3), stride=(1, 1), padding=(1, 1))\n",
            "    (3): ReLU()\n",
            "    (4): MaxPool2d(kernel_size=2, stride=2, padding=0, dilation=1, ceil_mode=False)\n",
            "    (5): Conv2d(128, 256, kernel_size=(3, 3), stride=(1, 1), padding=(1, 1))\n",
            "    (6): ReLU()\n",
            "    (7): MaxPool2d(kernel_size=2, stride=2, padding=0, dilation=1, ceil_mode=False)\n",
            "  )\n",
            ")\n"
          ],
          "name": "stdout"
        }
      ]
    },
    {
      "cell_type": "code",
      "metadata": {
        "id": "pK07WEc1NdNG",
        "colab": {
          "base_uri": "https://localhost:8080/"
        },
        "outputId": "fa6589f4-19af-40f7-d51f-08540eb0d399"
      },
      "source": [
        "# Get an element from the dataset\n",
        "test_x, _ = train_ds[0] \n",
        "# Get the size of a sample\n",
        "test_x.size()"
      ],
      "execution_count": null,
      "outputs": [
        {
          "output_type": "execute_result",
          "data": {
            "text/plain": [
              "torch.Size([3, 64, 64])"
            ]
          },
          "metadata": {
            "tags": []
          },
          "execution_count": 37
        }
      ]
    },
    {
      "cell_type": "code",
      "metadata": {
        "colab": {
          "base_uri": "https://localhost:8080/"
        },
        "id": "ZinTpwh0N_ED",
        "outputId": "92601387-d466-46a8-a2c9-2baeb321c0a0"
      },
      "source": [
        "test_x = test_x.unsqueeze(dim=0)\n",
        "test_x.size()"
      ],
      "execution_count": null,
      "outputs": [
        {
          "output_type": "execute_result",
          "data": {
            "text/plain": [
              "torch.Size([1, 3, 64, 64])"
            ]
          },
          "metadata": {
            "tags": []
          },
          "execution_count": 38
        }
      ]
    },
    {
      "cell_type": "code",
      "metadata": {
        "colab": {
          "base_uri": "https://localhost:8080/"
        },
        "id": "HxZDVaUDmK7_",
        "outputId": "e301bfcb-1ee8-44cc-c914-b2cd72b60c28"
      },
      "source": [
        "output = model(test_x)\n",
        "output.shape"
      ],
      "execution_count": null,
      "outputs": [
        {
          "output_type": "execute_result",
          "data": {
            "text/plain": [
              "torch.Size([1, 256, 15, 15])"
            ]
          },
          "metadata": {
            "tags": []
          },
          "execution_count": 39
        }
      ]
    },
    {
      "cell_type": "code",
      "metadata": {
        "colab": {
          "base_uri": "https://localhost:8080/"
        },
        "id": "bwDnqP8wmP1d",
        "outputId": "23e493a6-8959-45a5-d55a-c47a58b2108c"
      },
      "source": [
        "out_features = output.size(1) * output.size(2) * output.size(3)\n",
        "print(out_features)"
      ],
      "execution_count": null,
      "outputs": [
        {
          "output_type": "stream",
          "text": [
            "57600\n"
          ],
          "name": "stdout"
        }
      ]
    },
    {
      "cell_type": "code",
      "metadata": {
        "id": "DptkUgdumxQJ"
      },
      "source": [
        "class CNN(nn.Module):\n",
        "  #Constructor\n",
        "  def __init__(self):\n",
        "    # Call parent contructor\n",
        "    super().__init__()\n",
        "    self.conv_layer = nn.Sequential(\n",
        "         # Layer 1\n",
        "        nn.Conv2d(in_channels=3, out_channels=64, kernel_size=5, padding=1, stride=1),\n",
        "        nn.ReLU(),\n",
        "        # Layer 2\n",
        "        nn.Conv2d(in_channels=64, out_channels=128, kernel_size=3, padding=1, stride=1),\n",
        "        nn.ReLU(),\n",
        "        nn.MaxPool2d(kernel_size=2, stride=2),\n",
        "        # Layer 3\n",
        "        nn.Conv2d(in_channels=128, out_channels=256, kernel_size=3, padding=1, stride=1),\n",
        "        nn.ReLU(),\n",
        "        nn.MaxPool2d(kernel_size=2, stride=2)\n",
        "    )\n",
        "    # Create fully-connected layers\n",
        "    self.fc_layers = nn.Sequential(\n",
        "        # First FC layer\n",
        "        nn.Linear(57600, 1024),\n",
        "        nn.ReLU(),\n",
        "        # Second Layer\n",
        "        nn.Linear(1024, 512),\n",
        "        nn.ReLU(),\n",
        "        #Classification Layer\n",
        "        nn.Linear(512, 5)\n",
        "    )\n",
        "\n",
        "  # Forward\n",
        "  def forward(self, x):\n",
        "    x = self.conv_layer(x) \n",
        "    x = x.view(x.size(0), -1) \n",
        "    output = self.fc_layers(x) \n",
        "    return output"
      ],
      "execution_count": null,
      "outputs": []
    },
    {
      "cell_type": "code",
      "metadata": {
        "id": "tKM52oYon0tN",
        "colab": {
          "base_uri": "https://localhost:8080/"
        },
        "outputId": "997e7d36-c5ce-46c8-c9c0-8c0acd0657d3"
      },
      "source": [
        "# Create the model\n",
        "model2 = CNN()\n",
        "output = model2(test_x)\n",
        "output.shape"
      ],
      "execution_count": null,
      "outputs": [
        {
          "output_type": "execute_result",
          "data": {
            "text/plain": [
              "torch.Size([1, 5])"
            ]
          },
          "metadata": {
            "tags": []
          },
          "execution_count": 42
        }
      ]
    },
    {
      "cell_type": "code",
      "metadata": {
        "id": "CJzbk3KnoWrK"
      },
      "source": [
        "# Define an optimizier\n",
        "import torch.optim as optim\n",
        "optimizer = optim.SGD(model2.parameters(), lr = 0.01)\n",
        "# Define a loss \n",
        "criterion = nn.CrossEntropyLoss()"
      ],
      "execution_count": null,
      "outputs": []
    },
    {
      "cell_type": "markdown",
      "metadata": {
        "id": "rcqTjyh1odYo"
      },
      "source": [
        "#### Train"
      ]
    },
    {
      "cell_type": "code",
      "metadata": {
        "id": "fvwZw9dkVRmf"
      },
      "source": [
        "def train(net, loaders, optimizer, criterion, epochs=10, dev=device):\n",
        "    try:\n",
        "        net = net.to(dev)\n",
        "        print(net)\n",
        "        # Initialize history\n",
        "        history_loss = {\"train\": [], \"val\": [], \"test\": []}\n",
        "        history_accuracy = {\"train\": [], \"val\": [], \"test\": []}\n",
        "        # Process each epoch\n",
        "        for epoch in range(epochs):\n",
        "            # Initialize epoch variables\n",
        "            sum_loss = {\"train\": 0, \"val\": 0, \"test\": 0}\n",
        "            sum_accuracy = {\"train\": 0, \"val\": 0, \"test\": 0}\n",
        "            # Process each split\n",
        "            for split in [\"train\", \"val\", \"test\"]:\n",
        "                if split == \"train\":\n",
        "                  net.train()\n",
        "                else:\n",
        "                  net.eval()\n",
        "                # Process each batch\n",
        "                for (input, labels) in loaders[split]:\n",
        "                    # Move to CUDA\n",
        "                    input = input.to(dev)\n",
        "                    labels = labels.to(dev)\n",
        "                    # Reset gradients\n",
        "                    optimizer.zero_grad()\n",
        "                    # Compute output\n",
        "                    pred = net(input)\n",
        "                    loss = criterion(pred, labels)\n",
        "                    # Update loss\n",
        "                    sum_loss[split] += loss.item()\n",
        "                    # Check parameter update\n",
        "                    if split == \"train\":\n",
        "                        # Compute gradients\n",
        "                        loss.backward()\n",
        "                        # Optimize\n",
        "                        optimizer.step()\n",
        "                    # Compute accuracy\n",
        "                    _,pred_labels = pred.max(1)\n",
        "                    batch_accuracy = (pred_labels == labels).sum().item()/input.size(0)\n",
        "                    # Update accuracy\n",
        "                    sum_accuracy[split] += batch_accuracy\n",
        "            # Compute epoch loss/accuracy\n",
        "            epoch_loss = {split: sum_loss[split]/len(loaders[split]) for split in [\"train\", \"val\", \"test\"]}\n",
        "            epoch_accuracy = {split: sum_accuracy[split]/len(loaders[split]) for split in [\"train\", \"val\", \"test\"]}\n",
        "            # Update history\n",
        "            for split in [\"train\", \"val\", \"test\"]:\n",
        "                history_loss[split].append(epoch_loss[split])\n",
        "                history_accuracy[split].append(epoch_accuracy[split])\n",
        "            # Print info\n",
        "            print(f\"Epoch {epoch+1}:\",\n",
        "                  f\"TrL={epoch_loss['train']:.4f},\",\n",
        "                  f\"TrA={epoch_accuracy['train']:.4f},\",\n",
        "                  f\"VL={epoch_loss['val']:.4f},\",\n",
        "                  f\"VA={epoch_accuracy['val']:.4f},\",\n",
        "                  f\"TeL={epoch_loss['test']:.4f},\",\n",
        "                  f\"TeA={epoch_accuracy['test']:.4f},\")\n",
        "    except KeyboardInterrupt:\n",
        "        print(\"Interrupted\")\n",
        "    finally:\n",
        "        # Plot loss\n",
        "        plt.title(\"Loss\")\n",
        "        for split in [\"train\", \"val\", \"test\"]:\n",
        "            plt.plot(history_loss[split], label=split)\n",
        "        plt.legend()\n",
        "        plt.show()\n",
        "        # Plot accuracy\n",
        "        plt.title(\"Accuracy\")\n",
        "        for split in [\"train\", \"val\", \"test\"]:\n",
        "            plt.plot(history_accuracy[split], label=split)\n",
        "        plt.legend()\n",
        "        plt.show()"
      ],
      "execution_count": null,
      "outputs": []
    },
    {
      "cell_type": "code",
      "metadata": {
        "id": "zuC_3FR2Vg4k"
      },
      "source": [
        "# Define dictionary of loaders\n",
        "loaders = {\"train\": train_loader,\n",
        "           \"val\": val_loader,\n",
        "           \"test\": test_loader}"
      ],
      "execution_count": null,
      "outputs": []
    },
    {
      "cell_type": "code",
      "metadata": {
        "id": "OIQ9udzPWzZx",
        "colab": {
          "base_uri": "https://localhost:8080/",
          "height": 1000
        },
        "outputId": "69731cea-4fc8-438b-8ebd-6851cb048fba"
      },
      "source": [
        "# Train model\n",
        "train(model2, loaders, optimizer, criterion, epochs=50, dev=device)"
      ],
      "execution_count": null,
      "outputs": [
        {
          "output_type": "stream",
          "text": [
            "CNN(\n",
            "  (conv_layer): Sequential(\n",
            "    (0): Conv2d(3, 64, kernel_size=(5, 5), stride=(1, 1), padding=(1, 1))\n",
            "    (1): ReLU()\n",
            "    (2): Conv2d(64, 128, kernel_size=(3, 3), stride=(1, 1), padding=(1, 1))\n",
            "    (3): ReLU()\n",
            "    (4): MaxPool2d(kernel_size=2, stride=2, padding=0, dilation=1, ceil_mode=False)\n",
            "    (5): Conv2d(128, 256, kernel_size=(3, 3), stride=(1, 1), padding=(1, 1))\n",
            "    (6): ReLU()\n",
            "    (7): MaxPool2d(kernel_size=2, stride=2, padding=0, dilation=1, ceil_mode=False)\n",
            "  )\n",
            "  (fc_layers): Sequential(\n",
            "    (0): Linear(in_features=57600, out_features=1024, bias=True)\n",
            "    (1): ReLU()\n",
            "    (2): Linear(in_features=1024, out_features=512, bias=True)\n",
            "    (3): ReLU()\n",
            "    (4): Linear(in_features=512, out_features=5, bias=True)\n",
            "  )\n",
            ")\n",
            "Epoch 1: TrL=1.5811, TrA=0.2880, VL=1.5430, VA=0.3588, TeL=1.5428, TeA=0.3599,\n",
            "Epoch 2: TrL=1.4451, TrA=0.3894, VL=1.3574, VA=0.3879, TeL=1.3265, TeA=0.4052,\n",
            "Epoch 3: TrL=1.2492, TrA=0.4525, VL=1.2101, VA=0.4752, TeL=1.1690, TeA=0.4946,\n",
            "Epoch 4: TrL=1.1814, TrA=0.4946, VL=1.1878, VA=0.4806, TeL=1.1660, TeA=0.4989,\n",
            "Epoch 5: TrL=1.1456, TrA=0.5069, VL=1.2727, VA=0.4256, TeL=1.2376, TeA=0.4741,\n",
            "Epoch 6: TrL=1.1310, TrA=0.5190, VL=1.1445, VA=0.5151, TeL=1.1109, TeA=0.5259,\n",
            "Epoch 7: TrL=1.1125, TrA=0.5163, VL=1.1297, VA=0.5162, TeL=1.0874, TeA=0.5700,\n",
            "Epoch 8: TrL=1.0953, TrA=0.5473, VL=1.1147, VA=0.5711, TeL=1.0961, TeA=0.5539,\n",
            "Epoch 9: TrL=1.0815, TrA=0.5569, VL=1.0941, VA=0.5388, TeL=1.0708, TeA=0.5614,\n",
            "Epoch 10: TrL=1.0585, TrA=0.5668, VL=1.0977, VA=0.5474, TeL=1.0744, TeA=0.5754,\n",
            "Epoch 11: TrL=1.0503, TrA=0.5636, VL=1.1464, VA=0.4968, TeL=1.0716, TeA=0.5366,\n",
            "Epoch 12: TrL=1.0316, TrA=0.5799, VL=1.0690, VA=0.5517, TeL=1.0331, TeA=0.5711,\n",
            "Epoch 13: TrL=1.0223, TrA=0.5911, VL=1.0772, VA=0.5485, TeL=1.0316, TeA=0.5744,\n",
            "Epoch 14: TrL=1.0008, TrA=0.5919, VL=1.0617, VA=0.5679, TeL=1.0120, TeA=0.5970,\n",
            "Epoch 15: TrL=0.9959, TrA=0.5928, VL=1.0252, VA=0.5690, TeL=0.9726, TeA=0.6131,\n",
            "Epoch 16: TrL=0.9903, TrA=0.5941, VL=1.0271, VA=0.5873, TeL=0.9772, TeA=0.6110,\n",
            "Epoch 17: TrL=0.9669, TrA=0.6030, VL=1.0640, VA=0.5754, TeL=1.0083, TeA=0.5948,\n",
            "Epoch 18: TrL=0.9591, TrA=0.6113, VL=1.0965, VA=0.5377, TeL=1.0115, TeA=0.5970,\n",
            "Epoch 19: TrL=0.9528, TrA=0.6190, VL=1.0310, VA=0.5679, TeL=0.9957, TeA=0.5894,\n",
            "Epoch 20: TrL=0.9561, TrA=0.6168, VL=1.0761, VA=0.5453, TeL=1.0439, TeA=0.5711,\n",
            "Epoch 21: TrL=0.9390, TrA=0.6162, VL=1.0085, VA=0.5905, TeL=0.9706, TeA=0.6164,\n",
            "Epoch 22: TrL=0.9327, TrA=0.6248, VL=0.9848, VA=0.6045, TeL=0.9418, TeA=0.6261,\n",
            "Epoch 23: TrL=0.9068, TrA=0.6453, VL=1.0132, VA=0.5981, TeL=0.9531, TeA=0.6228,\n",
            "Epoch 24: TrL=0.9065, TrA=0.6394, VL=0.9884, VA=0.6024, TeL=0.9436, TeA=0.6142,\n",
            "Epoch 25: TrL=0.9002, TrA=0.6375, VL=1.0745, VA=0.5657, TeL=1.0641, TeA=0.5711,\n",
            "Epoch 26: TrL=0.9044, TrA=0.6400, VL=0.9895, VA=0.6110, TeL=0.9237, TeA=0.6261,\n",
            "Epoch 27: TrL=0.8879, TrA=0.6490, VL=1.0097, VA=0.5776, TeL=0.9410, TeA=0.6110,\n",
            "Epoch 28: TrL=0.8811, TrA=0.6363, VL=0.9605, VA=0.5991, TeL=0.9214, TeA=0.6272,\n",
            "Epoch 29: TrL=0.8631, TrA=0.6510, VL=1.1394, VA=0.5453, TeL=1.0360, TeA=0.6045,\n",
            "Epoch 30: TrL=0.8606, TrA=0.6553, VL=0.9936, VA=0.6002, TeL=0.9008, TeA=0.6401,\n",
            "Epoch 31: TrL=0.8544, TrA=0.6596, VL=0.9490, VA=0.6250, TeL=0.9233, TeA=0.6401,\n",
            "Epoch 32: TrL=0.8357, TrA=0.6711, VL=0.9731, VA=0.6336, TeL=0.8770, TeA=0.6692,\n",
            "Epoch 33: TrL=0.8411, TrA=0.6702, VL=0.9448, VA=0.6272, TeL=0.8796, TeA=0.6476,\n",
            "Epoch 34: TrL=0.8238, TrA=0.6825, VL=0.9561, VA=0.6293, TeL=0.8906, TeA=0.6487,\n",
            "Epoch 35: TrL=0.8136, TrA=0.6840, VL=0.9662, VA=0.6390, TeL=0.8963, TeA=0.6584,\n",
            "Epoch 36: TrL=0.8090, TrA=0.6850, VL=0.9871, VA=0.5981, TeL=0.9188, TeA=0.6444,\n",
            "Epoch 37: TrL=0.8045, TrA=0.6786, VL=0.9267, VA=0.6487, TeL=0.8604, TeA=0.6606,\n",
            "Epoch 38: TrL=0.8078, TrA=0.6902, VL=0.9406, VA=0.6078, TeL=0.8990, TeA=0.6476,\n",
            "Epoch 39: TrL=0.7854, TrA=0.6860, VL=0.9243, VA=0.6304, TeL=0.8897, TeA=0.6239,\n",
            "Epoch 40: TrL=0.7745, TrA=0.6901, VL=0.9826, VA=0.6325, TeL=0.8906, TeA=0.6509,\n",
            "Epoch 41: TrL=0.7907, TrA=0.6750, VL=0.9310, VA=0.6390, TeL=0.8665, TeA=0.6616,\n",
            "Epoch 42: TrL=0.7721, TrA=0.6954, VL=0.9590, VA=0.6250, TeL=0.8656, TeA=0.6649,\n",
            "Epoch 43: TrL=0.7686, TrA=0.6939, VL=0.9145, VA=0.6541, TeL=0.8281, TeA=0.6950,\n",
            "Epoch 44: TrL=0.7521, TrA=0.7064, VL=1.0081, VA=0.6218, TeL=0.9345, TeA=0.6185,\n",
            "Epoch 45: TrL=0.7470, TrA=0.7138, VL=0.9360, VA=0.6401, TeL=0.8603, TeA=0.6562,\n",
            "Epoch 46: TrL=0.7449, TrA=0.7083, VL=0.9668, VA=0.6207, TeL=0.8827, TeA=0.6638,\n",
            "Epoch 47: TrL=0.7359, TrA=0.7048, VL=0.9087, VA=0.6315, TeL=0.8436, TeA=0.6692,\n",
            "Epoch 48: TrL=0.7298, TrA=0.7187, VL=0.9733, VA=0.6379, TeL=0.8348, TeA=0.6875,\n",
            "Epoch 49: TrL=0.7154, TrA=0.7259, VL=1.0376, VA=0.5948, TeL=0.9296, TeA=0.6358,\n",
            "Epoch 50: TrL=0.7120, TrA=0.7146, VL=0.9318, VA=0.6530, TeL=0.8299, TeA=0.6789,\n"
          ],
          "name": "stdout"
        },
        {
          "output_type": "display_data",
          "data": {
            "image/png": "[encoded data removed]",
            "text/plain": [
              "<Figure size 432x288 with 1 Axes>"
            ]
          },
          "metadata": {
            "tags": [],
            "needs_background": "light"
          }
        },
        {
          "output_type": "display_data",
          "data": {
            "image/png": "[encoded data removed]",
            "text/plain": [
              "<Figure size 432x288 with 1 Axes>"
            ]
          },
          "metadata": {
            "tags": [],
            "needs_background": "light"
          }
        }
      ]
    },
    {
      "cell_type": "markdown",
      "metadata": {
        "id": "DOp365uws8z-"
      },
      "source": [
        "### Model - 4 Convolutional and 3 Dense layers"
      ]
    },
    {
      "cell_type": "code",
      "metadata": {
        "id": "nOJ26gqes80B"
      },
      "source": [
        "import torch.nn as nn\n",
        "\n",
        "class SimpleCNN(nn.Module):\n",
        "\n",
        "  #Constructor\n",
        "  def __init__(self):\n",
        "    # Call parent contructor\n",
        "    super().__init__()\n",
        "    self.conv_layer = nn.Sequential(\n",
        "         # Layer 1\n",
        "        nn.Conv2d(in_channels=3, out_channels=64, kernel_size=5, padding=1, stride=1),\n",
        "        nn.ReLU(),\n",
        "        # Layer 2\n",
        "        nn.Conv2d(in_channels=64, out_channels=128, kernel_size=3, padding=1, stride=1),\n",
        "        nn.ReLU(),\n",
        "        nn.MaxPool2d(kernel_size=2, stride=2),\n",
        "        # Layer 3\n",
        "        nn.Conv2d(in_channels=128, out_channels=256, kernel_size=3, padding=1, stride=1),\n",
        "        nn.ReLU(),\n",
        "        nn.MaxPool2d(kernel_size=2, stride=2),\n",
        "        #Layer 4\n",
        "        nn.Conv2d(in_channels=256, out_channels=512, kernel_size=3, padding=1, stride=1),\n",
        "        nn.ReLU(),\n",
        "        nn.MaxPool2d(kernel_size=2, stride=2)\n",
        "    )\n",
        "\n",
        "\n",
        "  # Forward\n",
        "  def forward(self, x):\n",
        "    x = self.conv_layer(x)\n",
        "    return x"
      ],
      "execution_count": null,
      "outputs": []
    },
    {
      "cell_type": "code",
      "metadata": {
        "colab": {
          "base_uri": "https://localhost:8080/"
        },
        "id": "R2thdQWPs80B",
        "outputId": "e758c513-d2fd-4153-a094-5efe2a9950ea"
      },
      "source": [
        "# Create the model\n",
        "model = SimpleCNN()\n",
        "print(model)"
      ],
      "execution_count": null,
      "outputs": [
        {
          "output_type": "stream",
          "text": [
            "SimpleCNN(\n",
            "  (conv_layer): Sequential(\n",
            "    (0): Conv2d(3, 64, kernel_size=(5, 5), stride=(1, 1), padding=(1, 1))\n",
            "    (1): ReLU()\n",
            "    (2): Conv2d(64, 128, kernel_size=(3, 3), stride=(1, 1), padding=(1, 1))\n",
            "    (3): ReLU()\n",
            "    (4): MaxPool2d(kernel_size=2, stride=2, padding=0, dilation=1, ceil_mode=False)\n",
            "    (5): Conv2d(128, 256, kernel_size=(3, 3), stride=(1, 1), padding=(1, 1))\n",
            "    (6): ReLU()\n",
            "    (7): MaxPool2d(kernel_size=2, stride=2, padding=0, dilation=1, ceil_mode=False)\n",
            "    (8): Conv2d(256, 512, kernel_size=(3, 3), stride=(1, 1), padding=(1, 1))\n",
            "    (9): ReLU()\n",
            "    (10): MaxPool2d(kernel_size=2, stride=2, padding=0, dilation=1, ceil_mode=False)\n",
            "  )\n",
            ")\n"
          ],
          "name": "stdout"
        }
      ]
    },
    {
      "cell_type": "code",
      "metadata": {
        "colab": {
          "base_uri": "https://localhost:8080/"
        },
        "id": "HhRI-h7Ds80C",
        "outputId": "6ace8cb4-5ed1-4f13-c9dc-26ecf3f6e102"
      },
      "source": [
        "# Get an element from the dataset\n",
        "test_x, _ = train_ds[0]\n",
        "# Get the size of a sample\n",
        "test_x.size() # each element of the dataset is a couple (image, label)"
      ],
      "execution_count": null,
      "outputs": [
        {
          "output_type": "execute_result",
          "data": {
            "text/plain": [
              "torch.Size([3, 64, 64])"
            ]
          },
          "metadata": {
            "tags": []
          },
          "execution_count": 49
        }
      ]
    },
    {
      "cell_type": "code",
      "metadata": {
        "colab": {
          "base_uri": "https://localhost:8080/"
        },
        "id": "p8WhN3_8s80C",
        "outputId": "f1f7b30f-d1b1-42aa-eb01-6969c78a41a7"
      },
      "source": [
        "test_x = test_x.unsqueeze(dim=0)\n",
        "test_x.size()"
      ],
      "execution_count": null,
      "outputs": [
        {
          "output_type": "execute_result",
          "data": {
            "text/plain": [
              "torch.Size([1, 3, 64, 64])"
            ]
          },
          "metadata": {
            "tags": []
          },
          "execution_count": 50
        }
      ]
    },
    {
      "cell_type": "code",
      "metadata": {
        "colab": {
          "base_uri": "https://localhost:8080/"
        },
        "id": "7PR-DSkts80D",
        "outputId": "5bd4a5be-a643-4bc2-b7b8-6134076e5f35"
      },
      "source": [
        "output = model(test_x)\n",
        "output.shape"
      ],
      "execution_count": null,
      "outputs": [
        {
          "output_type": "execute_result",
          "data": {
            "text/plain": [
              "torch.Size([1, 512, 7, 7])"
            ]
          },
          "metadata": {
            "tags": []
          },
          "execution_count": 51
        }
      ]
    },
    {
      "cell_type": "code",
      "metadata": {
        "colab": {
          "base_uri": "https://localhost:8080/"
        },
        "id": "CDp3dl4ss80D",
        "outputId": "872a4657-4089-4cf9-aaae-a4f6000f8dae"
      },
      "source": [
        "out_features = output.size(1) * output.size(2) * output.size(3)\n",
        "print(out_features)"
      ],
      "execution_count": null,
      "outputs": [
        {
          "output_type": "stream",
          "text": [
            "25088\n"
          ],
          "name": "stdout"
        }
      ]
    },
    {
      "cell_type": "code",
      "metadata": {
        "id": "lHLwISGLs80D"
      },
      "source": [
        "class CNN(nn.Module):\n",
        "  #Constructor\n",
        "  def __init__(self):\n",
        "    # Call parent contructor\n",
        "    super().__init__()\n",
        "    self.conv_layer = nn.Sequential(\n",
        "        # Layer 1\n",
        "        nn.Conv2d(in_channels=3, out_channels=64, kernel_size=5, padding=1, stride=1),\n",
        "        nn.ReLU(),\n",
        "        # Layer 2\n",
        "        nn.Conv2d(in_channels=64, out_channels=128, kernel_size=3, padding=1, stride=1),\n",
        "        nn.ReLU(),\n",
        "        nn.MaxPool2d(kernel_size=2, stride=2),\n",
        "        # Layer 3\n",
        "        nn.Conv2d(in_channels=128, out_channels=256, kernel_size=3, padding=1, stride=1),\n",
        "        nn.ReLU(),\n",
        "        nn.MaxPool2d(kernel_size=2, stride=2),\n",
        "        #Layer 4\n",
        "        nn.Conv2d(in_channels=256, out_channels=512, kernel_size=3, padding=1, stride=1),\n",
        "        nn.ReLU(),\n",
        "        nn.MaxPool2d(kernel_size=2, stride=2)\n",
        "    )\n",
        "\n",
        "\n",
        "        # Create fully-connected layers\n",
        "    self.fc_layers = nn.Sequential(\n",
        "        # First FC layer\n",
        "        nn.Linear(25088, 1024),\n",
        "        nn.ReLU(),\n",
        "        # Second Layer\n",
        "        nn.Linear(1024, 512),\n",
        "        nn.ReLU(),\n",
        "        #Classification Layer\n",
        "        nn.Linear(512, 5)\n",
        "    )\n",
        "\n",
        "  # Forward\n",
        "  def forward(self, x):\n",
        "    x = self.conv_layer(x) \n",
        "    x = x.view(x.size(0), -1)\n",
        "    output = self.fc_layers(x) \n",
        "    return output"
      ],
      "execution_count": null,
      "outputs": []
    },
    {
      "cell_type": "code",
      "metadata": {
        "colab": {
          "base_uri": "https://localhost:8080/"
        },
        "id": "G6-MrKwWs80D",
        "outputId": "e81c784d-23df-4795-9c7c-b939a0b660df"
      },
      "source": [
        "# Create the model\n",
        "model3 = CNN()\n",
        "output = model3(test_x)\n",
        "output.shape"
      ],
      "execution_count": null,
      "outputs": [
        {
          "output_type": "execute_result",
          "data": {
            "text/plain": [
              "torch.Size([1, 5])"
            ]
          },
          "metadata": {
            "tags": []
          },
          "execution_count": 54
        }
      ]
    },
    {
      "cell_type": "code",
      "metadata": {
        "id": "e5myTmaRs80E"
      },
      "source": [
        "# Define an optimizier\n",
        "import torch.optim as optim\n",
        "optimizer = optim.SGD(model3.parameters(), lr = 0.01)\n",
        "# Define a loss \n",
        "criterion = nn.CrossEntropyLoss()"
      ],
      "execution_count": null,
      "outputs": []
    },
    {
      "cell_type": "markdown",
      "metadata": {
        "id": "2-U0fFdNs80E"
      },
      "source": [
        "#### Train"
      ]
    },
    {
      "cell_type": "code",
      "metadata": {
        "id": "UMoWNwrFs80E"
      },
      "source": [
        "def train(net, loaders, optimizer, criterion, epochs=10, dev=device):\n",
        "    try:\n",
        "        net = net.to(dev)\n",
        "        print(net)\n",
        "        # Initialize history\n",
        "        history_loss = {\"train\": [], \"val\": [], \"test\": []}\n",
        "        history_accuracy = {\"train\": [], \"val\": [], \"test\": []}\n",
        "        # Process each epoch\n",
        "        for epoch in range(epochs):\n",
        "            # Initialize epoch variables\n",
        "            sum_loss = {\"train\": 0, \"val\": 0, \"test\": 0}\n",
        "            sum_accuracy = {\"train\": 0, \"val\": 0, \"test\": 0}\n",
        "            # Process each split\n",
        "            for split in [\"train\", \"val\", \"test\"]:\n",
        "                if split == \"train\":\n",
        "                  net.train()\n",
        "                else:\n",
        "                  net.eval()\n",
        "                # Process each batch\n",
        "                for (input, labels) in loaders[split]:\n",
        "                    # Move to CUDA\n",
        "                    input = input.to(dev)\n",
        "                    labels = labels.to(dev)\n",
        "                    # Reset gradients\n",
        "                    optimizer.zero_grad()\n",
        "                    # Compute output\n",
        "                    pred = net(input)\n",
        "                    loss = criterion(pred, labels)\n",
        "                    # Update loss\n",
        "                    sum_loss[split] += loss.item()\n",
        "                    # Check parameter update\n",
        "                    if split == \"train\":\n",
        "                        # Compute gradients\n",
        "                        loss.backward()\n",
        "                        # Optimize\n",
        "                        optimizer.step()\n",
        "                    # Compute accuracy\n",
        "                    _,pred_labels = pred.max(1)\n",
        "                    batch_accuracy = (pred_labels == labels).sum().item()/input.size(0)\n",
        "                    # Update accuracy\n",
        "                    sum_accuracy[split] += batch_accuracy\n",
        "            # Compute epoch loss/accuracy\n",
        "            epoch_loss = {split: sum_loss[split]/len(loaders[split]) for split in [\"train\", \"val\", \"test\"]}\n",
        "            epoch_accuracy = {split: sum_accuracy[split]/len(loaders[split]) for split in [\"train\", \"val\", \"test\"]}\n",
        "            # Update history\n",
        "            for split in [\"train\", \"val\", \"test\"]:\n",
        "                history_loss[split].append(epoch_loss[split])\n",
        "                history_accuracy[split].append(epoch_accuracy[split])\n",
        "            # Print info\n",
        "            print(f\"Epoch {epoch+1}:\",\n",
        "                  f\"TrL={epoch_loss['train']:.4f},\",\n",
        "                  f\"TrA={epoch_accuracy['train']:.4f},\",\n",
        "                  f\"VL={epoch_loss['val']:.4f},\",\n",
        "                  f\"VA={epoch_accuracy['val']:.4f},\",\n",
        "                  f\"TeL={epoch_loss['test']:.4f},\",\n",
        "                  f\"TeA={epoch_accuracy['test']:.4f},\")\n",
        "    except KeyboardInterrupt:\n",
        "        print(\"Interrupted\")\n",
        "    finally:\n",
        "        # Plot loss\n",
        "        plt.title(\"Loss\")\n",
        "        for split in [\"train\", \"val\", \"test\"]:\n",
        "            plt.plot(history_loss[split], label=split)\n",
        "        plt.legend()\n",
        "        plt.show()\n",
        "        # Plot accuracy\n",
        "        plt.title(\"Accuracy\")\n",
        "        for split in [\"train\", \"val\", \"test\"]:\n",
        "            plt.plot(history_accuracy[split], label=split)\n",
        "        plt.legend()\n",
        "        plt.show()"
      ],
      "execution_count": null,
      "outputs": []
    },
    {
      "cell_type": "code",
      "metadata": {
        "id": "7aXHKtqNs80E"
      },
      "source": [
        "# Define dictionary of loaders\n",
        "loaders = {\"train\": train_loader,\n",
        "           \"val\": val_loader,\n",
        "           \"test\": test_loader}"
      ],
      "execution_count": null,
      "outputs": []
    },
    {
      "cell_type": "code",
      "metadata": {
        "colab": {
          "base_uri": "https://localhost:8080/",
          "height": 1000
        },
        "id": "7eB9FxrGs80F",
        "outputId": "6403848c-ba8c-483b-8766-11956e2d3dd6"
      },
      "source": [
        "# Train model\n",
        "train(model3, loaders, optimizer, criterion, epochs=50, dev=device)"
      ],
      "execution_count": null,
      "outputs": [
        {
          "output_type": "stream",
          "text": [
            "CNN(\n",
            "  (conv_layer): Sequential(\n",
            "    (0): Conv2d(3, 64, kernel_size=(5, 5), stride=(1, 1), padding=(1, 1))\n",
            "    (1): ReLU()\n",
            "    (2): Conv2d(64, 128, kernel_size=(3, 3), stride=(1, 1), padding=(1, 1))\n",
            "    (3): ReLU()\n",
            "    (4): MaxPool2d(kernel_size=2, stride=2, padding=0, dilation=1, ceil_mode=False)\n",
            "    (5): Conv2d(128, 256, kernel_size=(3, 3), stride=(1, 1), padding=(1, 1))\n",
            "    (6): ReLU()\n",
            "    (7): MaxPool2d(kernel_size=2, stride=2, padding=0, dilation=1, ceil_mode=False)\n",
            "    (8): Conv2d(256, 512, kernel_size=(3, 3), stride=(1, 1), padding=(1, 1))\n",
            "    (9): ReLU()\n",
            "    (10): MaxPool2d(kernel_size=2, stride=2, padding=0, dilation=1, ceil_mode=False)\n",
            "  )\n",
            "  (fc_layers): Sequential(\n",
            "    (0): Linear(in_features=25088, out_features=1024, bias=True)\n",
            "    (1): ReLU()\n",
            "    (2): Linear(in_features=1024, out_features=512, bias=True)\n",
            "    (3): ReLU()\n",
            "    (4): Linear(in_features=512, out_features=5, bias=True)\n",
            "  )\n",
            ")\n",
            "Epoch 1: TrL=1.6052, TrA=0.2270, VL=1.6002, VA=0.2371, TeL=1.6025, TeA=0.2284,\n",
            "Epoch 2: TrL=1.5976, TrA=0.2383, VL=1.5940, VA=0.2996, TeL=1.5976, TeA=0.3136,\n",
            "Epoch 3: TrL=1.5900, TrA=0.2967, VL=1.5848, VA=0.3567, TeL=1.5889, TeA=0.3373,\n",
            "Epoch 4: TrL=1.5752, TrA=0.3074, VL=1.5655, VA=0.3448, TeL=1.5674, TeA=0.3222,\n",
            "Epoch 5: TrL=1.5299, TrA=0.3746, VL=1.4915, VA=0.3567, TeL=1.4898, TeA=0.3438,\n",
            "Epoch 6: TrL=1.4177, TrA=0.4037, VL=1.3729, VA=0.4062, TeL=1.3504, TeA=0.4181,\n",
            "Epoch 7: TrL=1.2818, TrA=0.4533, VL=1.2522, VA=0.4332, TeL=1.2370, TeA=0.4655,\n",
            "Epoch 8: TrL=1.2032, TrA=0.4833, VL=1.2051, VA=0.4526, TeL=1.1920, TeA=0.4795,\n",
            "Epoch 9: TrL=1.1804, TrA=0.4994, VL=1.1844, VA=0.4957, TeL=1.1709, TeA=0.4860,\n",
            "Epoch 10: TrL=1.1494, TrA=0.5149, VL=1.1595, VA=0.5172, TeL=1.1565, TeA=0.4871,\n",
            "Epoch 11: TrL=1.1295, TrA=0.5362, VL=1.1466, VA=0.4957, TeL=1.1278, TeA=0.5151,\n",
            "Epoch 12: TrL=1.1218, TrA=0.5301, VL=1.1886, VA=0.5194, TeL=1.1342, TeA=0.5345,\n",
            "Epoch 13: TrL=1.0983, TrA=0.5393, VL=1.1459, VA=0.4903, TeL=1.1077, TeA=0.5366,\n",
            "Epoch 14: TrL=1.0819, TrA=0.5580, VL=1.2146, VA=0.4849, TeL=1.1365, TeA=0.5226,\n",
            "Epoch 15: TrL=1.0690, TrA=0.5600, VL=1.1015, VA=0.5647, TeL=1.0675, TeA=0.5862,\n",
            "Epoch 16: TrL=1.0628, TrA=0.5600, VL=1.0930, VA=0.5474, TeL=1.0489, TeA=0.5647,\n",
            "Epoch 17: TrL=1.0377, TrA=0.5716, VL=1.1557, VA=0.4828, TeL=1.1014, TeA=0.5216,\n",
            "Epoch 18: TrL=1.0360, TrA=0.5712, VL=1.0659, VA=0.5485, TeL=1.0378, TeA=0.5819,\n",
            "Epoch 19: TrL=1.0235, TrA=0.5787, VL=1.0599, VA=0.5593, TeL=1.0364, TeA=0.5603,\n",
            "Epoch 20: TrL=1.0179, TrA=0.5823, VL=1.0781, VA=0.5539, TeL=1.0714, TeA=0.5528,\n",
            "Epoch 21: TrL=1.0070, TrA=0.5908, VL=1.0322, VA=0.5819, TeL=1.0077, TeA=0.5916,\n",
            "Epoch 22: TrL=1.0031, TrA=0.5949, VL=1.0774, VA=0.5442, TeL=1.0678, TeA=0.5485,\n",
            "Epoch 23: TrL=0.9882, TrA=0.5929, VL=1.0398, VA=0.5905, TeL=1.0051, TeA=0.5905,\n",
            "Epoch 24: TrL=0.9835, TrA=0.5938, VL=1.0275, VA=0.5787, TeL=0.9762, TeA=0.5916,\n",
            "Epoch 25: TrL=0.9787, TrA=0.6030, VL=0.9934, VA=0.5970, TeL=0.9545, TeA=0.6218,\n",
            "Epoch 26: TrL=0.9661, TrA=0.6071, VL=0.9795, VA=0.6013, TeL=0.9574, TeA=0.6153,\n",
            "Epoch 27: TrL=0.9584, TrA=0.6121, VL=0.9722, VA=0.6013, TeL=0.9592, TeA=0.6131,\n",
            "Epoch 28: TrL=0.9521, TrA=0.6115, VL=1.0142, VA=0.5668, TeL=0.9631, TeA=0.6034,\n",
            "Epoch 29: TrL=0.9482, TrA=0.6178, VL=1.0183, VA=0.6024, TeL=0.9562, TeA=0.6196,\n",
            "Epoch 30: TrL=0.9375, TrA=0.6211, VL=0.9736, VA=0.5905, TeL=0.9498, TeA=0.6196,\n",
            "Epoch 31: TrL=0.9259, TrA=0.6415, VL=1.0349, VA=0.5690, TeL=1.0409, TeA=0.5690,\n",
            "Epoch 32: TrL=0.9239, TrA=0.6308, VL=1.0850, VA=0.5409, TeL=1.0225, TeA=0.5625,\n",
            "Epoch 33: TrL=0.9164, TrA=0.6323, VL=1.0208, VA=0.6078, TeL=0.9447, TeA=0.6282,\n",
            "Epoch 34: TrL=0.9040, TrA=0.6471, VL=0.9764, VA=0.5851, TeL=0.9443, TeA=0.6013,\n",
            "Epoch 35: TrL=0.9001, TrA=0.6387, VL=0.9651, VA=0.6196, TeL=0.9108, TeA=0.6573,\n",
            "Epoch 36: TrL=0.8910, TrA=0.6526, VL=0.9330, VA=0.6272, TeL=0.8933, TeA=0.6509,\n",
            "Epoch 37: TrL=0.8906, TrA=0.6501, VL=1.0074, VA=0.5959, TeL=0.9457, TeA=0.6207,\n",
            "Epoch 38: TrL=0.8748, TrA=0.6579, VL=0.9477, VA=0.6250, TeL=0.8799, TeA=0.6670,\n",
            "Epoch 39: TrL=0.8688, TrA=0.6622, VL=0.9483, VA=0.6153, TeL=0.9036, TeA=0.6390,\n",
            "Epoch 40: TrL=0.8767, TrA=0.6478, VL=0.9511, VA=0.6175, TeL=0.8868, TeA=0.6595,\n",
            "Epoch 41: TrL=0.8655, TrA=0.6490, VL=1.0785, VA=0.5722, TeL=0.9909, TeA=0.5948,\n",
            "Epoch 42: TrL=0.8534, TrA=0.6611, VL=0.9924, VA=0.6056, TeL=0.9452, TeA=0.6325,\n",
            "Epoch 43: TrL=0.8511, TrA=0.6610, VL=0.9059, VA=0.6509, TeL=0.8584, TeA=0.6778,\n",
            "Epoch 44: TrL=0.8355, TrA=0.6686, VL=0.9324, VA=0.6336, TeL=0.9039, TeA=0.6412,\n",
            "Epoch 45: TrL=0.8318, TrA=0.6683, VL=0.9432, VA=0.6164, TeL=0.8710, TeA=0.6659,\n",
            "Epoch 46: TrL=0.8375, TrA=0.6689, VL=0.9265, VA=0.6250, TeL=0.9153, TeA=0.6379,\n",
            "Epoch 47: TrL=0.8270, TrA=0.6659, VL=0.8924, VA=0.6261, TeL=0.8476, TeA=0.6810,\n",
            "Epoch 48: TrL=0.8101, TrA=0.6780, VL=0.9534, VA=0.6369, TeL=0.8997, TeA=0.6681,\n",
            "Epoch 49: TrL=0.8131, TrA=0.6813, VL=0.8837, VA=0.6325, TeL=0.8716, TeA=0.6681,\n",
            "Epoch 50: TrL=0.8109, TrA=0.6815, VL=0.8893, VA=0.6562, TeL=0.8487, TeA=0.6670,\n"
          ],
          "name": "stdout"
        },
        {
          "output_type": "display_data",
          "data": {
            "image/png": "[encoded data removed]",
            "text/plain": [
              "<Figure size 432x288 with 1 Axes>"
            ]
          },
          "metadata": {
            "tags": [],
            "needs_background": "light"
          }
        },
        {
          "output_type": "display_data",
          "data": {
            "image/png": "[encoded data removed]",
            "text/plain": [
              "<Figure size 432x288 with 1 Axes>"
            ]
          },
          "metadata": {
            "tags": [],
            "needs_background": "light"
          }
        }
      ]
    },
    {
      "cell_type": "markdown",
      "metadata": {
        "id": "1x7N6feGg5lQ"
      },
      "source": [
        "### Model - 5 Convolutional and 3 Dense layers"
      ]
    },
    {
      "cell_type": "code",
      "metadata": {
        "id": "vfwJhqtEg5lV"
      },
      "source": [
        "import torch.nn as nn\n",
        "\n",
        "class SimpleCNN(nn.Module):\n",
        "\n",
        "  #Constructor\n",
        "  def __init__(self):\n",
        "    # Call parent contructor\n",
        "    super().__init__()\n",
        "    self.conv_layer = nn.Sequential(\n",
        "         # Layer 1\n",
        "        nn.Conv2d(in_channels=3, out_channels=64, kernel_size=5, padding=1, stride=1),\n",
        "        nn.ReLU(),\n",
        "        # Layer 2\n",
        "        nn.Conv2d(in_channels=64, out_channels=128, kernel_size=3, padding=1, stride=1),\n",
        "        nn.ReLU(),\n",
        "        nn.MaxPool2d(kernel_size=2, stride=2),\n",
        "        # Layer 3\n",
        "        nn.Conv2d(in_channels=128, out_channels=256, kernel_size=3, padding=1, stride=1),\n",
        "        nn.ReLU(),\n",
        "        nn.MaxPool2d(kernel_size=2, stride=2),\n",
        "        # Layer 4\n",
        "        nn.Conv2d(in_channels=256, out_channels=512, kernel_size=3, padding=1, stride=1),\n",
        "        nn.ReLU(),\n",
        "        nn.MaxPool2d(kernel_size=2, stride=2),\n",
        "        # Layer 5\n",
        "        nn.Conv2d(in_channels=512, out_channels=1024, kernel_size=3, padding=1, stride=1),\n",
        "        nn.ReLU(),\n",
        "        nn.MaxPool2d(kernel_size=2, stride=2)\n",
        "    )\n",
        "\n",
        "\n",
        "  # Forward\n",
        "  def forward(self, x):\n",
        "    x = self.conv_layer(x)\n",
        "    return x"
      ],
      "execution_count": null,
      "outputs": []
    },
    {
      "cell_type": "code",
      "metadata": {
        "colab": {
          "base_uri": "https://localhost:8080/"
        },
        "id": "4DrSUj4Og5lX",
        "outputId": "c2333eca-01cc-47f3-9bcf-1acc16da3e99"
      },
      "source": [
        "# Create the model\n",
        "model = SimpleCNN()\n",
        "print(model)"
      ],
      "execution_count": null,
      "outputs": [
        {
          "output_type": "stream",
          "text": [
            "SimpleCNN(\n",
            "  (conv_layer): Sequential(\n",
            "    (0): Conv2d(3, 64, kernel_size=(5, 5), stride=(1, 1), padding=(1, 1))\n",
            "    (1): ReLU()\n",
            "    (2): Conv2d(64, 128, kernel_size=(3, 3), stride=(1, 1), padding=(1, 1))\n",
            "    (3): ReLU()\n",
            "    (4): MaxPool2d(kernel_size=2, stride=2, padding=0, dilation=1, ceil_mode=False)\n",
            "    (5): Conv2d(128, 256, kernel_size=(3, 3), stride=(1, 1), padding=(1, 1))\n",
            "    (6): ReLU()\n",
            "    (7): MaxPool2d(kernel_size=2, stride=2, padding=0, dilation=1, ceil_mode=False)\n",
            "    (8): Conv2d(256, 512, kernel_size=(3, 3), stride=(1, 1), padding=(1, 1))\n",
            "    (9): ReLU()\n",
            "    (10): MaxPool2d(kernel_size=2, stride=2, padding=0, dilation=1, ceil_mode=False)\n",
            "    (11): Conv2d(512, 1024, kernel_size=(3, 3), stride=(1, 1), padding=(1, 1))\n",
            "    (12): ReLU()\n",
            "    (13): MaxPool2d(kernel_size=2, stride=2, padding=0, dilation=1, ceil_mode=False)\n",
            "  )\n",
            ")\n"
          ],
          "name": "stdout"
        }
      ]
    },
    {
      "cell_type": "code",
      "metadata": {
        "colab": {
          "base_uri": "https://localhost:8080/"
        },
        "id": "bKRfFfPEg5lb",
        "outputId": "2f8b3da5-37be-46cb-91c0-3f5aa9d48023"
      },
      "source": [
        "# Get an element from the dataset\n",
        "test_x, _ = train_ds[0] \n",
        "# Get the size of a sample\n",
        "test_x.size()"
      ],
      "execution_count": null,
      "outputs": [
        {
          "output_type": "execute_result",
          "data": {
            "text/plain": [
              "torch.Size([3, 64, 64])"
            ]
          },
          "metadata": {
            "tags": []
          },
          "execution_count": 61
        }
      ]
    },
    {
      "cell_type": "code",
      "metadata": {
        "colab": {
          "base_uri": "https://localhost:8080/"
        },
        "id": "MQAH5XFKg5ld",
        "outputId": "54e81f13-0e0a-479d-bbdf-c9b01986cecd"
      },
      "source": [
        "test_x = test_x.unsqueeze(dim=0)\n",
        "test_x.size()"
      ],
      "execution_count": null,
      "outputs": [
        {
          "output_type": "execute_result",
          "data": {
            "text/plain": [
              "torch.Size([1, 3, 64, 64])"
            ]
          },
          "metadata": {
            "tags": []
          },
          "execution_count": 62
        }
      ]
    },
    {
      "cell_type": "code",
      "metadata": {
        "colab": {
          "base_uri": "https://localhost:8080/"
        },
        "id": "t4Jc4Wnlg5le",
        "outputId": "fa278daf-762d-4b84-d8d5-da0f72fa42ab"
      },
      "source": [
        "output = model(test_x)\n",
        "output.shape"
      ],
      "execution_count": null,
      "outputs": [
        {
          "output_type": "execute_result",
          "data": {
            "text/plain": [
              "torch.Size([1, 1024, 3, 3])"
            ]
          },
          "metadata": {
            "tags": []
          },
          "execution_count": 63
        }
      ]
    },
    {
      "cell_type": "code",
      "metadata": {
        "colab": {
          "base_uri": "https://localhost:8080/"
        },
        "id": "IrzQR-i9g5lf",
        "outputId": "908ed72b-e677-4ce9-ec33-c2371fb1d154"
      },
      "source": [
        "out_features = output.size(1) * output.size(2) * output.size(3)\n",
        "print(out_features)"
      ],
      "execution_count": null,
      "outputs": [
        {
          "output_type": "stream",
          "text": [
            "9216\n"
          ],
          "name": "stdout"
        }
      ]
    },
    {
      "cell_type": "code",
      "metadata": {
        "id": "wONpO02Yg5lg"
      },
      "source": [
        "class CNN(nn.Module):\n",
        "  #Constructor\n",
        "  def __init__(self):\n",
        "    # Call parent contructor\n",
        "    super().__init__()\n",
        "    self.conv_layer = nn.Sequential(\n",
        "         # Layer 1\n",
        "        nn.Conv2d(in_channels=3, out_channels=64, kernel_size=5, padding=1, stride=1),\n",
        "        nn.ReLU(),\n",
        "        # Layer 2\n",
        "        nn.Conv2d(in_channels=64, out_channels=128, kernel_size=3, padding=1, stride=1),\n",
        "        nn.ReLU(),\n",
        "        nn.MaxPool2d(kernel_size=2, stride=2),\n",
        "        # Layer 3\n",
        "        nn.Conv2d(in_channels=128, out_channels=256, kernel_size=3, padding=1, stride=1),\n",
        "        nn.ReLU(),\n",
        "        nn.MaxPool2d(kernel_size=2, stride=2),\n",
        "        # Layer 4\n",
        "        nn.Conv2d(in_channels=256, out_channels=512, kernel_size=3, padding=1, stride=1),\n",
        "        nn.ReLU(),\n",
        "        nn.MaxPool2d(kernel_size=2, stride=2),\n",
        "        # Layer 5\n",
        "        nn.Conv2d(in_channels=512, out_channels=1024, kernel_size=3, padding=1, stride=1),\n",
        "        nn.ReLU(),\n",
        "        nn.MaxPool2d(kernel_size=2, stride=2)\n",
        "    )\n",
        "    # Create fully-connected layers\n",
        "    self.fc_layers = nn.Sequential(\n",
        "        # First FC layer\n",
        "        nn.Linear(9216, 1024),\n",
        "        nn.ReLU(),\n",
        "        # Second Layer\n",
        "        nn.Linear(1024, 512),\n",
        "        nn.ReLU(),\n",
        "        #Classification Layer\n",
        "        nn.Linear(512, 5)\n",
        "    )\n",
        "  # Forward\n",
        "  def forward(self, x):\n",
        "    x = self.conv_layer(x) \n",
        "    x = x.view(x.size(0), -1) \n",
        "    output = self.fc_layers(x) \n",
        "    return output"
      ],
      "execution_count": null,
      "outputs": []
    },
    {
      "cell_type": "code",
      "metadata": {
        "colab": {
          "base_uri": "https://localhost:8080/"
        },
        "id": "nRxxRragg5lh",
        "outputId": "a0d88110-73bf-410e-d987-b237fd7b21e8"
      },
      "source": [
        "# Create the model\n",
        "model4 = CNN()\n",
        "output = model4(test_x)\n",
        "output.shape"
      ],
      "execution_count": null,
      "outputs": [
        {
          "output_type": "execute_result",
          "data": {
            "text/plain": [
              "torch.Size([1, 5])"
            ]
          },
          "metadata": {
            "tags": []
          },
          "execution_count": 68
        }
      ]
    },
    {
      "cell_type": "code",
      "metadata": {
        "id": "0shQkTHbg5li"
      },
      "source": [
        "# Define an optimizier\n",
        "import torch.optim as optim\n",
        "optimizer = optim.SGD(model4.parameters(), lr = 0.01)\n",
        "# Define a loss \n",
        "criterion = nn.CrossEntropyLoss()"
      ],
      "execution_count": null,
      "outputs": []
    },
    {
      "cell_type": "markdown",
      "metadata": {
        "id": "yijjK2dkg5lj"
      },
      "source": [
        "#### Train"
      ]
    },
    {
      "cell_type": "code",
      "metadata": {
        "id": "uLOgFOwcg5lj"
      },
      "source": [
        "def train(net, loaders, optimizer, criterion, epochs=10, dev=device):\n",
        "    try:\n",
        "        net = net.to(dev)\n",
        "        print(net)\n",
        "        # Initialize history\n",
        "        history_loss = {\"train\": [], \"val\": [], \"test\": []}\n",
        "        history_accuracy = {\"train\": [], \"val\": [], \"test\": []}\n",
        "        # Process each epoch\n",
        "        for epoch in range(epochs):\n",
        "            # Initialize epoch variables\n",
        "            sum_loss = {\"train\": 0, \"val\": 0, \"test\": 0}\n",
        "            sum_accuracy = {\"train\": 0, \"val\": 0, \"test\": 0}\n",
        "            # Process each split\n",
        "            for split in [\"train\", \"val\", \"test\"]:\n",
        "                if split == \"train\":\n",
        "                  net.train()\n",
        "                else:\n",
        "                  net.eval()\n",
        "                # Process each batch\n",
        "                for (input, labels) in loaders[split]:\n",
        "                    # Move to CUDA\n",
        "                    input = input.to(dev)\n",
        "                    labels = labels.to(dev)\n",
        "                    # Reset gradients\n",
        "                    optimizer.zero_grad()\n",
        "                    # Compute output\n",
        "                    pred = net(input)\n",
        "                    loss = criterion(pred, labels)\n",
        "                    # Update loss\n",
        "                    sum_loss[split] += loss.item()\n",
        "                    # Check parameter update\n",
        "                    if split == \"train\":\n",
        "                        # Compute gradients\n",
        "                        loss.backward()\n",
        "                        # Optimize\n",
        "                        optimizer.step()\n",
        "                    # Compute accuracy\n",
        "                    _,pred_labels = pred.max(1)\n",
        "                    batch_accuracy = (pred_labels == labels).sum().item()/input.size(0)\n",
        "                    # Update accuracy\n",
        "                    sum_accuracy[split] += batch_accuracy\n",
        "            # Compute epoch loss/accuracy\n",
        "            epoch_loss = {split: sum_loss[split]/len(loaders[split]) for split in [\"train\", \"val\", \"test\"]}\n",
        "            epoch_accuracy = {split: sum_accuracy[split]/len(loaders[split]) for split in [\"train\", \"val\", \"test\"]}\n",
        "            # Update history\n",
        "            for split in [\"train\", \"val\", \"test\"]:\n",
        "                history_loss[split].append(epoch_loss[split])\n",
        "                history_accuracy[split].append(epoch_accuracy[split])\n",
        "            # Print info\n",
        "            print(f\"Epoch {epoch+1}:\",\n",
        "                  f\"TrL={epoch_loss['train']:.4f},\",\n",
        "                  f\"TrA={epoch_accuracy['train']:.4f},\",\n",
        "                  f\"VL={epoch_loss['val']:.4f},\",\n",
        "                  f\"VA={epoch_accuracy['val']:.4f},\",\n",
        "                  f\"TeL={epoch_loss['test']:.4f},\",\n",
        "                  f\"TeA={epoch_accuracy['test']:.4f},\")\n",
        "    except KeyboardInterrupt:\n",
        "        print(\"Interrupted\")\n",
        "    finally:\n",
        "        # Plot loss\n",
        "        plt.title(\"Loss\")\n",
        "        for split in [\"train\", \"val\", \"test\"]:\n",
        "            plt.plot(history_loss[split], label=split)\n",
        "        plt.legend()\n",
        "        plt.show()\n",
        "        # Plot accuracy\n",
        "        plt.title(\"Accuracy\")\n",
        "        for split in [\"train\", \"val\", \"test\"]:\n",
        "            plt.plot(history_accuracy[split], label=split)\n",
        "        plt.legend()\n",
        "        plt.show()"
      ],
      "execution_count": null,
      "outputs": []
    },
    {
      "cell_type": "code",
      "metadata": {
        "id": "5UMMJJ-Sg5lk"
      },
      "source": [
        "# Define dictionary of loaders\n",
        "loaders = {\"train\": train_loader,\n",
        "           \"val\": val_loader,\n",
        "           \"test\": test_loader}"
      ],
      "execution_count": null,
      "outputs": []
    },
    {
      "cell_type": "code",
      "metadata": {
        "colab": {
          "base_uri": "https://localhost:8080/",
          "height": 1000
        },
        "id": "tlV52RK8g5ln",
        "outputId": "f4bf89eb-a951-4c6f-a09f-ae5d1282d184"
      },
      "source": [
        "# Train model\n",
        "train(model4, loaders, optimizer, criterion, epochs=50, dev=device)"
      ],
      "execution_count": null,
      "outputs": [
        {
          "output_type": "stream",
          "text": [
            "CNN(\n",
            "  (conv_layer): Sequential(\n",
            "    (0): Conv2d(3, 64, kernel_size=(5, 5), stride=(1, 1), padding=(1, 1))\n",
            "    (1): ReLU()\n",
            "    (2): Conv2d(64, 128, kernel_size=(3, 3), stride=(1, 1), padding=(1, 1))\n",
            "    (3): ReLU()\n",
            "    (4): MaxPool2d(kernel_size=2, stride=2, padding=0, dilation=1, ceil_mode=False)\n",
            "    (5): Conv2d(128, 256, kernel_size=(3, 3), stride=(1, 1), padding=(1, 1))\n",
            "    (6): ReLU()\n",
            "    (7): MaxPool2d(kernel_size=2, stride=2, padding=0, dilation=1, ceil_mode=False)\n",
            "    (8): Conv2d(256, 512, kernel_size=(3, 3), stride=(1, 1), padding=(1, 1))\n",
            "    (9): ReLU()\n",
            "    (10): MaxPool2d(kernel_size=2, stride=2, padding=0, dilation=1, ceil_mode=False)\n",
            "    (11): Conv2d(512, 1024, kernel_size=(3, 3), stride=(1, 1), padding=(1, 1))\n",
            "    (12): ReLU()\n",
            "    (13): MaxPool2d(kernel_size=2, stride=2, padding=0, dilation=1, ceil_mode=False)\n",
            "  )\n",
            "  (fc_layers): Sequential(\n",
            "    (0): Linear(in_features=9216, out_features=1024, bias=True)\n",
            "    (1): ReLU()\n",
            "    (2): Linear(in_features=1024, out_features=512, bias=True)\n",
            "    (3): ReLU()\n",
            "    (4): Linear(in_features=512, out_features=5, bias=True)\n",
            "  )\n",
            ")\n",
            "Epoch 1: TrL=1.6059, TrA=0.2463, VL=1.6032, VA=0.2392, TeL=1.6056, TeA=0.2252,\n",
            "Epoch 2: TrL=1.6018, TrA=0.2461, VL=1.5998, VA=0.2392, TeL=1.6033, TeA=0.2252,\n",
            "Epoch 3: TrL=1.5990, TrA=0.2460, VL=1.5974, VA=0.2392, TeL=1.6013, TeA=0.2252,\n",
            "Epoch 4: TrL=1.5965, TrA=0.2462, VL=1.5950, VA=0.2392, TeL=1.5995, TeA=0.2252,\n",
            "Epoch 5: TrL=1.5939, TrA=0.2522, VL=1.5920, VA=0.2425, TeL=1.5969, TeA=0.2284,\n",
            "Epoch 6: TrL=1.5899, TrA=0.2630, VL=1.5866, VA=0.3276, TeL=1.5918, TeA=0.2963,\n",
            "Epoch 7: TrL=1.5827, TrA=0.3361, VL=1.5758, VA=0.3685, TeL=1.5809, TeA=0.3524,\n",
            "Epoch 8: TrL=1.5636, TrA=0.3807, VL=1.5406, VA=0.3685, TeL=1.5448, TeA=0.3578,\n",
            "Epoch 9: TrL=1.4744, TrA=0.3999, VL=1.3740, VA=0.4084, TeL=1.3666, TeA=0.4084,\n",
            "Epoch 10: TrL=1.3229, TrA=0.4088, VL=1.2950, VA=0.4321, TeL=1.2818, TeA=0.4407,\n",
            "Epoch 11: TrL=1.2728, TrA=0.4427, VL=1.2541, VA=0.4127, TeL=1.2438, TeA=0.4159,\n",
            "Epoch 12: TrL=1.2347, TrA=0.4616, VL=1.2565, VA=0.4537, TeL=1.2407, TeA=0.4688,\n",
            "Epoch 13: TrL=1.2141, TrA=0.4672, VL=1.2068, VA=0.4849, TeL=1.1839, TeA=0.4978,\n",
            "Epoch 14: TrL=1.1901, TrA=0.4944, VL=1.2071, VA=0.4871, TeL=1.1965, TeA=0.4774,\n",
            "Epoch 15: TrL=1.1797, TrA=0.5090, VL=1.1890, VA=0.4838, TeL=1.1641, TeA=0.4752,\n",
            "Epoch 16: TrL=1.1649, TrA=0.4989, VL=1.1749, VA=0.5172, TeL=1.1504, TeA=0.5075,\n",
            "Epoch 17: TrL=1.1552, TrA=0.5132, VL=1.1580, VA=0.5194, TeL=1.1235, TeA=0.5474,\n",
            "Epoch 18: TrL=1.1450, TrA=0.5194, VL=1.1272, VA=0.5269, TeL=1.1121, TeA=0.5269,\n",
            "Epoch 19: TrL=1.1244, TrA=0.5300, VL=1.1573, VA=0.5183, TeL=1.1233, TeA=0.5108,\n",
            "Epoch 20: TrL=1.1219, TrA=0.5346, VL=1.1214, VA=0.5356, TeL=1.0986, TeA=0.5269,\n",
            "Epoch 21: TrL=1.0984, TrA=0.5397, VL=1.1073, VA=0.5356, TeL=1.0627, TeA=0.5614,\n",
            "Epoch 22: TrL=1.0871, TrA=0.5441, VL=1.1383, VA=0.5162, TeL=1.0714, TeA=0.5560,\n",
            "Epoch 23: TrL=1.0820, TrA=0.5437, VL=1.1269, VA=0.5485, TeL=1.0744, TeA=0.5528,\n",
            "Epoch 24: TrL=1.0683, TrA=0.5551, VL=1.0915, VA=0.5237, TeL=1.0762, TeA=0.5550,\n",
            "Epoch 25: TrL=1.0456, TrA=0.5703, VL=1.0624, VA=0.5582, TeL=1.0498, TeA=0.5485,\n",
            "Epoch 26: TrL=1.0392, TrA=0.5706, VL=1.0598, VA=0.5517, TeL=1.0380, TeA=0.5571,\n",
            "Epoch 27: TrL=1.0245, TrA=0.5828, VL=1.0846, VA=0.5506, TeL=1.0326, TeA=0.5830,\n",
            "Epoch 28: TrL=1.0353, TrA=0.5676, VL=1.0591, VA=0.5808, TeL=1.0001, TeA=0.5916,\n",
            "Epoch 29: TrL=1.0114, TrA=0.5825, VL=1.0242, VA=0.5797, TeL=1.0252, TeA=0.5711,\n",
            "Epoch 30: TrL=1.0128, TrA=0.5834, VL=1.0350, VA=0.5776, TeL=1.0255, TeA=0.5765,\n",
            "Epoch 31: TrL=0.9859, TrA=0.6033, VL=1.0301, VA=0.5614, TeL=0.9936, TeA=0.5776,\n",
            "Epoch 32: TrL=0.9849, TrA=0.5991, VL=1.0272, VA=0.5862, TeL=0.9651, TeA=0.6153,\n",
            "Epoch 33: TrL=0.9765, TrA=0.6024, VL=0.9946, VA=0.6121, TeL=0.9768, TeA=0.6024,\n",
            "Epoch 34: TrL=0.9617, TrA=0.6126, VL=0.9797, VA=0.5948, TeL=0.9634, TeA=0.6175,\n",
            "Epoch 35: TrL=0.9550, TrA=0.6149, VL=1.0898, VA=0.5474, TeL=1.0867, TeA=0.5657,\n",
            "Epoch 36: TrL=0.9528, TrA=0.6212, VL=0.9774, VA=0.6045, TeL=0.9348, TeA=0.6250,\n",
            "Epoch 37: TrL=0.9454, TrA=0.6128, VL=0.9916, VA=0.5959, TeL=0.9286, TeA=0.6325,\n",
            "Epoch 38: TrL=0.9514, TrA=0.6137, VL=0.9599, VA=0.6228, TeL=0.9287, TeA=0.6228,\n",
            "Epoch 39: TrL=0.9419, TrA=0.6146, VL=0.9613, VA=0.6131, TeL=0.9159, TeA=0.6369,\n",
            "Epoch 40: TrL=0.9234, TrA=0.6352, VL=0.9734, VA=0.6218, TeL=0.9289, TeA=0.6304,\n",
            "Epoch 41: TrL=0.9164, TrA=0.6311, VL=0.9352, VA=0.6175, TeL=0.9066, TeA=0.6433,\n",
            "Epoch 42: TrL=0.9058, TrA=0.6413, VL=1.0153, VA=0.5765, TeL=0.9489, TeA=0.6067,\n",
            "Epoch 43: TrL=0.9128, TrA=0.6305, VL=0.9641, VA=0.5938, TeL=0.9119, TeA=0.6315,\n",
            "Epoch 44: TrL=0.9075, TrA=0.6403, VL=0.9410, VA=0.6228, TeL=0.8928, TeA=0.6509,\n",
            "Epoch 45: TrL=0.9047, TrA=0.6337, VL=0.9557, VA=0.6164, TeL=0.9062, TeA=0.6272,\n",
            "Epoch 46: TrL=0.8959, TrA=0.6352, VL=0.9038, VA=0.6304, TeL=0.8928, TeA=0.6519,\n",
            "Epoch 47: TrL=0.9028, TrA=0.6410, VL=0.9990, VA=0.6067, TeL=0.9556, TeA=0.6272,\n",
            "Epoch 48: TrL=0.8857, TrA=0.6409, VL=0.9363, VA=0.6315, TeL=0.8990, TeA=0.6487,\n",
            "Epoch 49: TrL=0.8832, TrA=0.6510, VL=0.9432, VA=0.6164, TeL=0.8934, TeA=0.6379,\n",
            "Epoch 50: TrL=0.8819, TrA=0.6527, VL=0.9778, VA=0.6153, TeL=0.9371, TeA=0.6401,\n"
          ],
          "name": "stdout"
        },
        {
          "output_type": "display_data",
          "data": {
            "image/png": "[encoded data removed]",
            "text/plain": [
              "<Figure size 432x288 with 1 Axes>"
            ]
          },
          "metadata": {
            "tags": [],
            "needs_background": "light"
          }
        },
        {
          "output_type": "display_data",
          "data": {
            "image/png": "[encoded data removed]",
            "text/plain": [
              "<Figure size 432x288 with 1 Axes>"
            ]
          },
          "metadata": {
            "tags": [],
            "needs_background": "light"
          }
        }
      ]
    },
    {
      "cell_type": "markdown",
      "metadata": {
        "id": "wGX4Ju5TVsXg"
      },
      "source": [
        "## Conclusion"
      ]
    },
    {
      "cell_type": "markdown",
      "metadata": {
        "id": "RTsBgoTWGfbe"
      },
      "source": [
        "At the end, comparing the accuracy values on the validation set, the best model result to be : Model - 3 Convolutional and 3 Dense Layers\\\n",
        "Here we will see an example of prediction."
      ]
    },
    {
      "cell_type": "code",
      "metadata": {
        "id": "VGer1BfiVvqq"
      },
      "source": [
        "def predict_image(img, model):\n",
        "    img = (img.unsqueeze(dim=0)).to(device)\n",
        "    yb = model(img)\n",
        "    _, preds  = torch.max(yb, dim=1)\n",
        "    return flower_label[preds[0].item()]"
      ],
      "execution_count": null,
      "outputs": []
    },
    {
      "cell_type": "code",
      "metadata": {
        "colab": {
          "base_uri": "https://localhost:8080/",
          "height": 302
        },
        "id": "kGz8zHVhWhoZ",
        "outputId": "a6202c5e-651b-4ba0-a8b5-acaaafe038a0"
      },
      "source": [
        "img, label = test_ds[2]\n",
        "plt.imshow(img.permute(1, 2, 0))\n",
        "print('Label:', flower_label[label], ', Predicted:', predict_image(img, model2))"
      ],
      "execution_count": null,
      "outputs": [
        {
          "output_type": "stream",
          "text": [
            "Clipping input data to the valid range for imshow with RGB data ([0..1] for floats or [0..255] for integers).\n"
          ],
          "name": "stderr"
        },
        {
          "output_type": "stream",
          "text": [
            "Label: tulip , Predicted: tulip\n"
          ],
          "name": "stdout"
        },
        {
          "output_type": "display_data",
          "data": {
            "image/png": "[encoded data removed]",
            "text/plain": [
              "<Figure size 432x288 with 1 Axes>"
            ]
          },
          "metadata": {
            "tags": [],
            "needs_background": "light"
          }
        }
      ]
    },
    {
      "cell_type": "code",
      "metadata": {
        "id": "2emtBgdYVFky"
      },
      "source": [
        ""
      ],
      "execution_count": null,
      "outputs": []
    }
  ]
}